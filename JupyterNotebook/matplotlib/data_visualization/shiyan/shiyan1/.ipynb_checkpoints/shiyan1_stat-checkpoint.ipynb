{
 "cells": [
  {
   "cell_type": "code",
   "execution_count": 32,
   "metadata": {
    "ExecuteTime": {
     "end_time": "2019-03-09T13:33:18.693105Z",
     "start_time": "2019-03-09T13:33:18.282913Z"
    }
   },
   "outputs": [
    {
     "name": "stdout",
     "output_type": "stream",
     "text": [
      "x均值 [9.0, 9.0, 9.0, 9.0]\n",
      "y均值 [7.500909090909093, 7.500909090909091, 7.500000000000001, 7.50090909090909]\n",
      "x方差 [10.0, 10.0, 10.0, 10.0]\n",
      "y方差 [3.7520628099173554, 3.7523900826446277, 3.747836363636364, 3.74840826446281]\n"
     ]
    },
    {
     "data": {
      "image/png": "[encoded data removed]",
      "text/plain": [
       "<Figure size 576x432 with 1 Axes>"
      ]
     },
     "metadata": {
      "needs_background": "light"
     },
     "output_type": "display_data"
    }
   ],
   "source": [
    "import numpy as np\n",
    "import pandas as pd\n",
    "import matplotlib.pyplot as plt\n",
    "\n",
    "# 数据可视化实验1\n",
    "# 读取数据\n",
    "data = pd.read_excel('Anscombe.xls', sheetname='Data', usecols=\"C,D,F,G,I,J,L,M\", nrows=11, skiprows=8)\n",
    "\n",
    "xnames = ['x1', 'x2', 'x3', 'x4']\n",
    "ynames = ['y1', 'y2', 'y3', 'y4']\n",
    "# 均值\n",
    "xmeans = []\n",
    "ymeans = []\n",
    "for x in xnames:\n",
    "    xmeans.append(np.mean(data[x]))\n",
    "for y in ynames:\n",
    "    ymeans.append(np.mean(data[y]))\n",
    "\n",
    "# 方差\n",
    "xvars = []\n",
    "yvars = []\n",
    "for x in xnames:\n",
    "    xvars.append(np.var(data[x]))\n",
    "for y in ynames:\n",
    "    yvars.append(np.var(data[y]))\n",
    "\n",
    "# 绘图\n",
    "plt.rcParams['font.sans-serif'] = 'SimHei' # 设置中文\n",
    "plt.rcParams['axes.unicode_minus'] = False\n",
    "values = data.values # 数据源\n",
    "p = plt.figure(figsize=(8,6))\n",
    "\n",
    "plt.plot(range(1,5), xmeans)\n",
    "plt.plot(range(1,5), ymeans)\n",
    "plt.plot(range(1,5), xvars)\n",
    "plt.plot(range(1,5), yvars)\n",
    "plt.title('x-y均值、方差折线图')\n",
    "plt.xlabel('x')\n",
    "plt.ylabel('y')\n",
    "plt.xlim((0,5))\n",
    "plt.ylim((0,12))\n",
    "plt.xticks(range(0,5,1))\n",
    "plt.yticks(range(0,13,2))\n",
    "plt.legend(['x均值', 'y均值', 'x方差', 'y方差'])\n",
    "\n",
    "print('x均值', xmeans)\n",
    "print('y均值', ymeans)\n",
    "print('x方差', xvars)\n",
    "print('y方差', yvars)\n",
    "\n",
    "plt.savefig('./实验1均值方差.png')\n",
    "plt.show()\n",
    "\n"
   ]
  },
  {
   "cell_type": "code",
   "execution_count": null,
   "metadata": {},
   "outputs": [],
   "source": []
  }
 ],
 "metadata": {
  "kernelspec": {
   "display_name": "Python 3",
   "language": "python",
   "name": "python3"
  },
  "language_info": {
   "codemirror_mode": {
    "name": "ipython",
    "version": 3
   },
   "file_extension": ".py",
   "mimetype": "text/x-python",
   "name": "python",
   "nbconvert_exporter": "python",
   "pygments_lexer": "ipython3",
   "version": "3.7.1"
  }
 },
 "nbformat": 4,
 "nbformat_minor": 2
}

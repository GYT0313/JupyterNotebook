{
 "cells": [
  {
   "cell_type": "code",
   "execution_count": 123,
   "metadata": {
    "ExecuteTime": {
     "end_time": "2019-03-09T12:56:58.251820Z",
     "start_time": "2019-03-09T12:56:56.821817Z"
    }
   },
   "outputs": [
    {
     "data": {
      "image/png": "[encoded data removed]",
      "text/plain": [
       "<Figure size 864x648 with 4 Axes>"
      ]
     },
     "metadata": {
      "needs_background": "light"
     },
     "output_type": "display_data"
    }
   ],
   "source": [
    "import pandas as pd\n",
    "import matplotlib.pyplot as plt\n",
    "\n",
    "# 数据可视化实验1\n",
    "# 读取数据\n",
    "data = pd.read_excel('Anscombe.xls', sheetname='Data', usecols=\"C,D,F,G,I,J,L,M\", nrows=11, skiprows=8)\n",
    "\n",
    "# 绘图\n",
    "plt.rcParams['font.sans-serif'] = 'SimHei' # 设置中文\n",
    "plt.rcParams['axes.unicode_minus'] = False\n",
    "values = data.values # 数据源\n",
    "p = plt.figure(figsize=(12,9))\n",
    "\n",
    "def set_xy(plt):\n",
    "    plt.xlim((0,20))\n",
    "    plt.ylim((0,14))\n",
    "    plt.xticks(range(0,21,5))\n",
    "    plt.yticks(range(0,15,2))\n",
    "\n",
    "# 子图1\n",
    "ax1 = p.add_subplot(2,2,1)\n",
    "plt.scatter(values[:,0], values[:,1], marker='o', c='r')\n",
    "plt.title('x1-y1')\n",
    "plt.xlabel('x1')\n",
    "plt.ylabel('y1')\n",
    "set_xy(plt)\n",
    "\n",
    "# 子图2\n",
    "ax2 = p.add_subplot(2,2,2)\n",
    "plt.scatter(values[:,2], values[:,3], marker='o', c='b')\n",
    "plt.title('x2-y2')\n",
    "plt.xlabel('x2')\n",
    "plt.ylabel('y2')\n",
    "set_xy(plt)\n",
    "\n",
    "# 子图3\n",
    "ax3 = p.add_subplot(2,2,3)\n",
    "plt.scatter(values[:,4], values[:,5], marker='o', c='b')\n",
    "plt.title('x3-y3')\n",
    "plt.xlabel('x3')\n",
    "plt.ylabel('y3')\n",
    "set_xy(plt)\n",
    "\n",
    "# 子图4\n",
    "ax4 = p.add_subplot(2,2,4)\n",
    "plt.scatter(values[:,6], values[:,7], marker='o', c='g')\n",
    "plt.title('x4-y4')\n",
    "plt.xlabel('x4')\n",
    "plt.ylabel('y4')\n",
    "set_xy(plt)\n",
    "\n",
    "\n",
    "plt.savefig('./实验1散点图.png')\n",
    "plt.show()"
   ]
  },
  {
   "cell_type": "code",
   "execution_count": null,
   "metadata": {},
   "outputs": [],
   "source": []
  },
  {
   "cell_type": "code",
   "execution_count": null,
   "metadata": {},
   "outputs": [],
   "source": []
  },
  {
   "cell_type": "code",
   "execution_count": null,
   "metadata": {},
   "outputs": [],
   "source": []
  }
 ],
 "metadata": {
  "kernelspec": {
   "display_name": "Python 3",
   "language": "python",
   "name": "python3"
  },
  "language_info": {
   "codemirror_mode": {
    "name": "ipython",
    "version": 3
   },
   "file_extension": ".py",
   "mimetype": "text/x-python",
   "name": "python",
   "nbconvert_exporter": "python",
   "pygments_lexer": "ipython3",
   "version": "3.7.1"
  }
 },
 "nbformat": 4,
 "nbformat_minor": 2
}

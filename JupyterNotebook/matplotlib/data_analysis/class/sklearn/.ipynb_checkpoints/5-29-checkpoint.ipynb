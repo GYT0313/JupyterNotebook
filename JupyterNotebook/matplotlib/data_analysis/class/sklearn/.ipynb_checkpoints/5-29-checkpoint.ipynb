{
 "cells": [
  {
   "cell_type": "code",
   "execution_count": 2,
   "metadata": {},
   "outputs": [],
   "source": [
    "from sklearn.model_selection import train_test_split"
   ]
  },
  {
   "cell_type": "code",
   "execution_count": 1,
   "metadata": {},
   "outputs": [],
   "source": [
    "from sklearn.linear_model import LinearRegression\n",
    "from sklearn.preprocessing import PolynomialFeatures"
   ]
  },
  {
   "cell_type": "code",
   "execution_count": 3,
   "metadata": {},
   "outputs": [],
   "source": [
    "import numpy as np\n",
    "import matplotlib.pyplot as plt"
   ]
  },
  {
   "cell_type": "code",
   "execution_count": 4,
   "metadata": {},
   "outputs": [
    {
     "name": "stdout",
     "output_type": "stream",
     "text": [
      "系数:  [1.33952484]\n",
      "截距:  2.239913606911446\n"
     ]
    },
    {
     "data": {
      "image/png": "[encoded data removed]",
      "text/plain": [
       "<Figure size 432x288 with 1 Axes>"
      ]
     },
     "metadata": {
      "needs_background": "light"
     },
     "output_type": "display_data"
    },
    {
     "data": {
      "text/plain": [
       "array([4.24920086, 5.18686825])"
      ]
     },
     "execution_count": 4,
     "metadata": {},
     "output_type": "execute_result"
    }
   ],
   "source": [
    "x = np.array([[1.5],[2.3],[3.4],[3.9],[4.7],[5.2]])\n",
    "y = np.array([4.1, 5.3, 7.2, 8.0, 8.3, 9.0])\n",
    "# 划分训练集和数据集\n",
    "x_train, x_test, y_train, y_test = train_test_split(x, y, test_size=0.2, random_state=3)\n",
    "# 训练模型\n",
    "l_result = LinearRegression().fit(x_train, y_train)\n",
    "\n",
    "# \n",
    "print(\"系数: \", l_result.coef_)\n",
    "print(\"截距: \", l_result.intercept_)\n",
    "x1 = [i for i in range(8)]\n",
    "y1 = [j*l_result.coef_+l_result.intercept_ for j in range(8)]\n",
    "\n",
    "plt.plot(x1, y1)\n",
    "plt.scatter(x1, y1, color=\"yellow\")\n",
    "plt.scatter(x, y, color=\"red\")\n",
    "plt.show()\n",
    "\n",
    "# 预测\n",
    "l_result.predict([[1.5], [2.2]])"
   ]
  },
  {
   "cell_type": "code",
   "execution_count": 90,
   "metadata": {},
   "outputs": [
    {
     "name": "stdout",
     "output_type": "stream",
     "text": [
      "系数:  [749.85021786]\n",
      "截距:  122887.92265795206\n",
      "2030:  [149132.68028322]\n"
     ]
    },
    {
     "data": {
      "image/png": "[encoded data removed]",
      "text/plain": [
       "<Figure size 432x288 with 1 Axes>"
      ]
     },
     "metadata": {
      "needs_background": "light"
     },
     "output_type": "display_data"
    }
   ],
   "source": [
    "# 人口预测\n",
    "# 读取数据\n",
    "people = np.load(\"./populations.npz\")\n",
    "\n",
    "# 获取数值\n",
    "data = people.f.data\n",
    "# 去除空行\n",
    "data = data[-3::-1, :]\n",
    "# 生成x,y\n",
    "#x = [[i] for i in range(1, len(data[:, 0])+1)]\n",
    "x = np.arange(1,21).reshape(20,1)\n",
    "y = data[:, 1]\n",
    "\n",
    "# 划分训练集和数据集\n",
    "x_train, x_test, y_train, y_test = train_test_split(x, y, test_size=0.2, random_state=3)\n",
    "# 训练模型\n",
    "l_result = LinearRegression().fit(x_train, y_train)\n",
    "# \n",
    "print(\"系数: \", l_result.coef_)\n",
    "print(\"截距: \", l_result.intercept_)\n",
    "x1 = [i for i in range(len(x)+1)]\n",
    "y1 = [j*l_result.coef_+l_result.intercept_ for j in range(len(x)+1)]\n",
    "\n",
    "# 绘图\n",
    "plt.plot(x1, y1)\n",
    "plt.scatter(x1, y1, color=\"yellow\")\n",
    "plt.scatter(x, y, color=\"red\")\n",
    "\n",
    "# 预测\n",
    "print(\"2030: \", l_result.predict([[35]]))\n",
    "\n",
    "plt.scatter([35], [l_result.predict([[35]])], color=\"green\")\n",
    "plt.show()\n",
    "\n",
    "\n"
   ]
  },
  {
   "cell_type": "code",
   "execution_count": 45,
   "metadata": {},
   "outputs": [
    {
     "name": "stdout",
     "output_type": "stream",
     "text": [
      "Help on NpzFile in module numpy.lib.npyio object:\n",
      "\n",
      "class NpzFile(collections.abc.Mapping)\n",
      " |  NpzFile(fid, own_fid=False, allow_pickle=True, pickle_kwargs=None)\n",
      " |  \n",
      " |  NpzFile(fid)\n",
      " |  \n",
      " |  A dictionary-like object with lazy-loading of files in the zipped\n",
      " |  archive provided on construction.\n",
      " |  \n",
      " |  `NpzFile` is used to load files in the NumPy ``.npz`` data archive\n",
      " |  format. It assumes that files in the archive have a ``.npy`` extension,\n",
      " |  other files are ignored.\n",
      " |  \n",
      " |  The arrays and file strings are lazily loaded on either\n",
      " |  getitem access using ``obj['key']`` or attribute lookup using\n",
      " |  ``obj.f.key``. A list of all files (without ``.npy`` extensions) can\n",
      " |  be obtained with ``obj.files`` and the ZipFile object itself using\n",
      " |  ``obj.zip``.\n",
      " |  \n",
      " |  Attributes\n",
      " |  ----------\n",
      " |  files : list of str\n",
      " |      List of all files in the archive with a ``.npy`` extension.\n",
      " |  zip : ZipFile instance\n",
      " |      The ZipFile object initialized with the zipped archive.\n",
      " |  f : BagObj instance\n",
      " |      An object on which attribute can be performed as an alternative\n",
      " |      to getitem access on the `NpzFile` instance itself.\n",
      " |  allow_pickle : bool, optional\n",
      " |      Allow loading pickled data. Default: True\n",
      " |  pickle_kwargs : dict, optional\n",
      " |      Additional keyword arguments to pass on to pickle.load.\n",
      " |      These are only useful when loading object arrays saved on\n",
      " |      Python 2 when using Python 3.\n",
      " |  \n",
      " |  Parameters\n",
      " |  ----------\n",
      " |  fid : file or str\n",
      " |      The zipped archive to open. This is either a file-like object\n",
      " |      or a string containing the path to the archive.\n",
      " |  own_fid : bool, optional\n",
      " |      Whether NpzFile should close the file handle.\n",
      " |      Requires that `fid` is a file-like object.\n",
      " |  \n",
      " |  Examples\n",
      " |  --------\n",
      " |  >>> from tempfile import TemporaryFile\n",
      " |  >>> outfile = TemporaryFile()\n",
      " |  >>> x = np.arange(10)\n",
      " |  >>> y = np.sin(x)\n",
      " |  >>> np.savez(outfile, x=x, y=y)\n",
      " |  >>> outfile.seek(0)\n",
      " |  \n",
      " |  >>> npz = np.load(outfile)\n",
      " |  >>> isinstance(npz, np.lib.io.NpzFile)\n",
      " |  True\n",
      " |  >>> npz.files\n",
      " |  ['y', 'x']\n",
      " |  >>> npz['x']  # getitem access\n",
      " |  array([0, 1, 2, 3, 4, 5, 6, 7, 8, 9])\n",
      " |  >>> npz.f.x  # attribute lookup\n",
      " |  array([0, 1, 2, 3, 4, 5, 6, 7, 8, 9])\n",
      " |  \n",
      " |  Method resolution order:\n",
      " |      NpzFile\n",
      " |      collections.abc.Mapping\n",
      " |      collections.abc.Collection\n",
      " |      collections.abc.Sized\n",
      " |      collections.abc.Iterable\n",
      " |      collections.abc.Container\n",
      " |      builtins.object\n",
      " |  \n",
      " |  Methods defined here:\n",
      " |  \n",
      " |  __del__(self)\n",
      " |  \n",
      " |  __enter__(self)\n",
      " |  \n",
      " |  __exit__(self, exc_type, exc_value, traceback)\n",
      " |  \n",
      " |  __getitem__(self, key)\n",
      " |  \n",
      " |  __init__(self, fid, own_fid=False, allow_pickle=True, pickle_kwargs=None)\n",
      " |      Initialize self.  See help(type(self)) for accurate signature.\n",
      " |  \n",
      " |  __iter__(self)\n",
      " |      # Implement the Mapping ABC\n",
      " |  \n",
      " |  __len__(self)\n",
      " |  \n",
      " |  close(self)\n",
      " |      Close the file.\n",
      " |  \n",
      " |  iteritems(self)\n",
      " |  \n",
      " |  iterkeys(self)\n",
      " |  \n",
      " |  ----------------------------------------------------------------------\n",
      " |  Data descriptors defined here:\n",
      " |  \n",
      " |  __dict__\n",
      " |      dictionary for instance variables (if defined)\n",
      " |  \n",
      " |  __weakref__\n",
      " |      list of weak references to the object (if defined)\n",
      " |  \n",
      " |  ----------------------------------------------------------------------\n",
      " |  Data and other attributes defined here:\n",
      " |  \n",
      " |  __abstractmethods__ = frozenset()\n",
      " |  \n",
      " |  ----------------------------------------------------------------------\n",
      " |  Methods inherited from collections.abc.Mapping:\n",
      " |  \n",
      " |  __contains__(self, key)\n",
      " |  \n",
      " |  __eq__(self, other)\n",
      " |      Return self==value.\n",
      " |  \n",
      " |  get(self, key, default=None)\n",
      " |      D.get(k[,d]) -> D[k] if k in D, else d.  d defaults to None.\n",
      " |  \n",
      " |  items(self)\n",
      " |      D.items() -> a set-like object providing a view on D's items\n",
      " |  \n",
      " |  keys(self)\n",
      " |      D.keys() -> a set-like object providing a view on D's keys\n",
      " |  \n",
      " |  values(self)\n",
      " |      D.values() -> an object providing a view on D's values\n",
      " |  \n",
      " |  ----------------------------------------------------------------------\n",
      " |  Data and other attributes inherited from collections.abc.Mapping:\n",
      " |  \n",
      " |  __hash__ = None\n",
      " |  \n",
      " |  __reversed__ = None\n",
      " |  \n",
      " |  ----------------------------------------------------------------------\n",
      " |  Class methods inherited from collections.abc.Collection:\n",
      " |  \n",
      " |  __subclasshook__(C) from abc.ABCMeta\n",
      " |      Abstract classes can override this to customize issubclass().\n",
      " |      \n",
      " |      This is invoked early on by abc.ABCMeta.__subclasscheck__().\n",
      " |      It should return True, False or NotImplemented.  If it returns\n",
      " |      NotImplemented, the normal algorithm is used.  Otherwise, it\n",
      " |      overrides the normal algorithm (and the outcome is cached).\n",
      "\n"
     ]
    }
   ],
   "source": [
    "help(people)"
   ]
  },
  {
   "cell_type": "code",
   "execution_count": 27,
   "metadata": {},
   "outputs": [
    {
     "name": "stdout",
     "output_type": "stream",
     "text": [
      "[[ 1.    1.5   2.25]\n",
      " [ 1.    2.3   5.29]\n",
      " [ 1.    3.4  11.56]\n",
      " [ 1.    3.9  15.21]\n",
      " [ 1.    4.7  22.09]\n",
      " [ 1.    5.2  27.04]]\n",
      "系数:  [ 0.          2.55070678 -0.19402043]\n",
      "截距:  0.634572668632809\n",
      "[0.63457267 1.86142095 2.99125902 4.02408688 4.95990453 5.79871196\n",
      " 6.54050917 7.18529618 7.73307297 8.18383954 8.53759591 8.79434205]\n"
     ]
    },
    {
     "data": {
      "image/png": "[encoded data removed]",
      "text/plain": [
       "<Figure size 432x288 with 1 Axes>"
      ]
     },
     "metadata": {
      "needs_background": "light"
     },
     "output_type": "display_data"
    }
   ],
   "source": [
    "# 多项式\n",
    "# 高阶x值\n",
    "# x^0  x^1  x^2 以此类推\n",
    "x_trans = PolynomialFeatures(degree = 2).fit_transform(x)\n",
    "print(x_trans)\n",
    "\n",
    "# 划分训练集和数据集\n",
    "x1_train, x1_test, y1_train, y1_test = train_test_split(x_trans, y, test_size=0.2, random_state=3)\n",
    "# 训练模型\n",
    "lx_result = LinearRegression().fit(x1_train, y1_train)\n",
    "#\n",
    "print(\"系数: \", lx_result.coef_)\n",
    "print(\"截距: \", lx_result.intercept_)\n",
    "\n",
    "# 测试数据\n",
    "# x2是np有广播机制, 所以y2可以这样写. 如果x2是列表需要用列表推导式\n",
    "x2 = np.arange(0,6,0.5)\n",
    "y2 = lx_result.coef_[0]*1 + lx_result.coef_[1]*x2 + lx_result.coef_[2]*x2**2 + \\\n",
    "      lx_result.intercept_\n",
    "print(y2)\n",
    "\n",
    "x1 = [i for i in range(len(x)+1)]\n",
    "y1 = [j*l_result.coef_+l_result.intercept_ for j in range(len(x)+1)]\n",
    "\n",
    "plt.plot(x2, y2)\n",
    "plt.plot(x1, y1)\n",
    "plt.scatter(x, y, color=\"yellow\")\n",
    "# plt.scatter(x, y, color=\"red\")\n",
    "plt.show()"
   ]
  },
  {
   "cell_type": "code",
   "execution_count": 32,
   "metadata": {},
   "outputs": [
    {
     "name": "stdout",
     "output_type": "stream",
     "text": [
      "[7.46406048 9.20544276]\n",
      "直线模型\n",
      "Boston数据线性回归模型的平均值绝对误差:  0.3706911447084238\n",
      "Boston数据线性回归模型的均方误差:  0.1647189519006945\n",
      "Boston数据线性回归模型的绝对误差:  0.3706911447084238\n",
      "Boston数据线性回归模型的可解释方差值:  0.45035230093903367\n",
      "Boston数据线性回归模型的R^2值:  0.341124192397222\n",
      "二次方模型\n",
      "Boston数据线性回归模型的平均值绝对误差:  0.3583929915425679\n",
      "Boston数据线性回归模型的均方误差:  0.12855221600162722\n",
      "Boston数据线性回归模型的绝对误差:  0.3583929915425679\n",
      "Boston数据线性回归模型的可解释方差值:  0.9995732815408156\n",
      "Boston数据线性回归模型的R^2值:  0.341124192397222\n",
      "二次方更好\n"
     ]
    }
   ],
   "source": [
    "# 模型评价 P193\n",
    "y_pred = l_result.predict(x_test)\n",
    "yx_pred = lx_result.predict(x1_test)\n",
    "print(y_pred)\n",
    "from sklearn.metrics import explained_variance_score,\\\n",
    "mean_absolute_error,\\\n",
    "mean_squared_error,\\\n",
    "median_absolute_error, r2_score\\\n",
    "\n",
    "print(\"直线模型\")\n",
    "print('Boston数据线性回归模型的平均值绝对误差: ', mean_absolute_error(y_test, y_pred))\n",
    "print('Boston数据线性回归模型的均方误差: ', mean_squared_error(y_test, y_pred))\n",
    "print('Boston数据线性回归模型的绝对误差: ', median_absolute_error(y_test, y_pred))\n",
    "print('Boston数据线性回归模型的可解释方差值: ', explained_variance_score(y_test, y_pred))\n",
    "print('Boston数据线性回归模型的R^2值: ', r2_score(y_test, y_pred))\n",
    "print(\"二次方模型\")\n",
    "print('Boston数据线性回归模型的平均值绝对误差: ', mean_absolute_error(y1_test, yx_pred))\n",
    "print('Boston数据线性回归模型的均方误差: ', mean_squared_error(y1_test, yx_pred))\n",
    "print('Boston数据线性回归模型的绝对误差: ', median_absolute_error(y1_test, yx_pred))\n",
    "print('Boston数据线性回归模型的可解释方差值: ', explained_variance_score(y1_test, yx_pred))\n",
    "print('Boston数据线性回归模型的R^2值: ', r2_score(y_test, y_pred))\n",
    "# 可以看出二次方模型更优\n",
    "if (mean_absolute_error(y_test, y_pred) < mean_absolute_error(y1_test, yx_pred)):\n",
    "    printi(\"直线更好\")\n",
    "else:\n",
    "    print(\"二次方更好\")"
   ]
  },
  {
   "cell_type": "code",
   "execution_count": 37,
   "metadata": {},
   "outputs": [
    {
     "data": {
      "text/plain": [
       "[9, 3, 5, 1, 3, 5, 1, 3, 5]"
      ]
     },
     "execution_count": 37,
     "metadata": {},
     "output_type": "execute_result"
    }
   ],
   "source": [
    "li = [1,3,5]*3\n",
    "li[0] = 9\n",
    "li"
   ]
  },
  {
   "cell_type": "code",
   "execution_count": 40,
   "metadata": {},
   "outputs": [
    {
     "name": "stdout",
     "output_type": "stream",
     "text": [
      "([1, 2, 3],)\n"
     ]
    }
   ],
   "source": [
    "def fun(*p):\n",
    "    print(p)\n",
    "fun(([1,2,3]))"
   ]
  },
  {
   "cell_type": "code",
   "execution_count": 59,
   "metadata": {},
   "outputs": [
    {
     "name": "stdout",
     "output_type": "stream",
     "text": [
      "Index(['fixed acidity', 'volatile acidity', 'citric acid', 'residual sugar',\n",
      "       'chlorides', 'free sulfur dioxide', 'total sulfur dioxide', 'density',\n",
      "       'pH', 'sulphates', 'alcohol', 'quality'],\n",
      "      dtype='object')\n",
      "系数:  [ 3.21701286e-02 -1.03467859e+00 -1.53320498e-01  1.23460437e-02\n",
      " -1.61715049e+00  5.08258596e-03 -3.32744691e-03 -1.57794200e+01\n",
      " -3.84377830e-01  8.10208705e-01  2.88021969e-01]\n",
      "截距:  19.611580823868117\n"
     ]
    }
   ],
   "source": [
    "# P197 实训四\n",
    "import pandas as pd\n",
    "from sklearn.model_selection import train_test_split\n",
    "from sklearn.linear_model import LinearRegression\n",
    "from sklearn.preprocessing import PolynomialFeatures\n",
    "import numpy as np\n",
    "import matplotlib.pyplot as plt\n",
    "from sklearn.metrics import explained_variance_score,\\\n",
    "mean_absolute_error,\\\n",
    "mean_squared_error,\\\n",
    "median_absolute_error, r2_score\\\n",
    "\n",
    "\n",
    "# 导入数据\n",
    "data = pd.read_csv(\"./winequality.csv\", delimiter=\";\")\n",
    "print(data.columns)\n",
    "data.head(5)\n",
    "\n",
    "# 模型\n",
    "# 多项式\n",
    "# 高阶x值\n",
    "# x^0  x^1  x^2 以此类推\n",
    "# 只截取30行数据\n",
    "x_t = data.iloc[:,:-1:].values[:30]\n",
    "xt_trans = PolynomialFeatures(degree = len(data.columns)-1).fit_transform(x_t)\n",
    "y_t = data[\"quality\"][:30]\n",
    "\n",
    "\n",
    "# 划分训练集和数据集\n",
    "xt_train, xt_test, yt_train, yt_test = train_test_split(xt_trans, y_t, test_size=0.2, random_state=3)\n",
    "# 训练模型\n",
    "l_result = LinearRegression().fit(x_train, y_train)\n",
    "\n",
    "# \n",
    "print(\"系数: \", l_result.coef_)\n",
    "print(\"截距: \", l_result.intercept_)"
   ]
  },
  {
   "cell_type": "code",
   "execution_count": null,
   "metadata": {},
   "outputs": [],
   "source": []
  }
 ],
 "metadata": {
  "kernelspec": {
   "display_name": "Python 3",
   "language": "python",
   "name": "python3"
  },
  "language_info": {
   "codemirror_mode": {
    "name": "ipython",
    "version": 3
   },
   "file_extension": ".py",
   "mimetype": "text/x-python",
   "name": "python",
   "nbconvert_exporter": "python",
   "pygments_lexer": "ipython3",
   "version": "3.7.1"
  }
 },
 "nbformat": 4,
 "nbformat_minor": 2
}

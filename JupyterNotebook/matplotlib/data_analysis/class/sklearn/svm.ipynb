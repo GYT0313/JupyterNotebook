{
 "cells": [
  {
   "cell_type": "code",
   "execution_count": 15,
   "metadata": {},
   "outputs": [],
   "source": [
    "import pandas as pd\n",
    "from sklearn.model_selection import train_test_split\n",
    "from sklearn.preprocessing import StandardScaler\n",
    "from sklearn.decomposition import PCA\n",
    "import matplotlib.pyplot as plt"
   ]
  },
  {
   "cell_type": "code",
   "execution_count": 5,
   "metadata": {},
   "outputs": [],
   "source": [
    "# 1. load data\n",
    "wine_data = pd.read_csv(\"./wine.csv\")"
   ]
  },
  {
   "cell_type": "code",
   "execution_count": 7,
   "metadata": {},
   "outputs": [],
   "source": [
    "# 2. 划分x,y\n",
    "X, Y = wine_data.iloc[:, 1:], wine_data.iloc[:, 1]"
   ]
  },
  {
   "cell_type": "code",
   "execution_count": 14,
   "metadata": {},
   "outputs": [
    {
     "name": "stderr",
     "output_type": "stream",
     "text": [
      "G:\\soft\\Anaconda3\\lib\\site-packages\\sklearn\\model_selection\\_split.py:2179: FutureWarning: From version 0.21, test_size will always complement train_size unless both are specified.\n",
      "  FutureWarning)\n",
      "G:\\soft\\Anaconda3\\lib\\site-packages\\sklearn\\preprocessing\\data.py:625: DataConversionWarning: Data with input dtype int64, float64 were all converted to float64 by StandardScaler.\n",
      "  return self.partial_fit(X, y)\n",
      "G:\\soft\\Anaconda3\\lib\\site-packages\\sklearn\\base.py:462: DataConversionWarning: Data with input dtype int64, float64 were all converted to float64 by StandardScaler.\n",
      "  return self.fit(X, **fit_params).transform(X)\n"
     ]
    }
   ],
   "source": [
    "# 3. 划分训练集、测试集\n",
    "X_train,X_test, Y_train,Y_test = train_test_split(X, Y, train_size=0.3, random_state=6)\n",
    "\n",
    "# 4. 标准化处理\n",
    "sc = StandardScaler()\n",
    "X_train_std = sc.fit_transform(X_train)\n",
    "\n",
    "# 5. 降维 2维\n",
    "pca = PCA(n_components=2)\n",
    "X_train_pca = pca.fit_transform(X_train_std)"
   ]
  },
  {
   "cell_type": "code",
   "execution_count": 20,
   "metadata": {},
   "outputs": [
    {
     "data": {
      "image/png": "[encoded data removed]",
      "text/plain": [
       "<Figure size 432x288 with 1 Axes>"
      ]
     },
     "metadata": {
      "needs_background": "light"
     },
     "output_type": "display_data"
    },
    {
     "data": {
      "text/plain": [
       "24     13.50\n",
       "105    12.42\n",
       "123    13.05\n",
       "41     13.41\n",
       "82     12.08\n",
       "129    12.04\n",
       "146    13.88\n",
       "67     12.37\n",
       "10     14.10\n",
       "147    12.87\n",
       "70     12.29\n",
       "40     13.56\n",
       "119    12.00\n",
       "78     12.33\n",
       "166    13.45\n",
       "50     13.05\n",
       "158    14.34\n",
       "57     13.29\n",
       "43     13.24\n",
       "28     13.87\n",
       "124    11.87\n",
       "85     12.67\n",
       "63     12.37\n",
       "66     13.11\n",
       "127    11.79\n",
       "172    14.16\n",
       "171    12.77\n",
       "132    12.81\n",
       "114    12.08\n",
       "86     12.16\n",
       "15     13.63\n",
       "154    12.58\n",
       "125    12.07\n",
       "133    12.70\n",
       "31     13.58\n",
       "130    12.86\n",
       "8      14.83\n",
       "165    13.73\n",
       "68     13.34\n",
       "110    11.46\n",
       "161    13.69\n",
       "26     13.39\n",
       "77     11.84\n",
       "75     11.66\n",
       "1      13.20\n",
       "25     13.05\n",
       "62     13.67\n",
       "80     12.00\n",
       "176    13.17\n",
       "79     12.70\n",
       "109    11.61\n",
       "106    12.25\n",
       "138    13.49\n",
       "Name: Alcohol, dtype: float64"
      ]
     },
     "execution_count": 20,
     "metadata": {},
     "output_type": "execute_result"
    }
   ],
   "source": [
    "# 6. 绘图\n",
    "plt.scatter(X_train_pca[Y_train==0, 0], X_train_pca[Y_train==0, 1])\n",
    "plt.show()\n",
    "Y_train"
   ]
  },
  {
   "cell_type": "code",
   "execution_count": null,
   "metadata": {},
   "outputs": [],
   "source": []
  }
 ],
 "metadata": {
  "kernelspec": {
   "display_name": "Python 3",
   "language": "python",
   "name": "python3"
  },
  "language_info": {
   "codemirror_mode": {
    "name": "ipython",
    "version": 3
   },
   "file_extension": ".py",
   "mimetype": "text/x-python",
   "name": "python",
   "nbconvert_exporter": "python",
   "pygments_lexer": "ipython3",
   "version": "3.7.1"
  }
 },
 "nbformat": 4,
 "nbformat_minor": 2
}

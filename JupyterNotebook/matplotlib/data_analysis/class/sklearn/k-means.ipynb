{
 "cells": [
  {
   "cell_type": "code",
   "execution_count": 1,
   "metadata": {},
   "outputs": [],
   "source": [
    "import pandas as pd\n",
    "from sklearn.preprocessing import StandardScaler\n",
    "from sklearn.cluster import KMeans"
   ]
  },
  {
   "cell_type": "code",
   "execution_count": 2,
   "metadata": {},
   "outputs": [
    {
     "name": "stdout",
     "output_type": "stream",
     "text": [
      "数据形状:  (210, 8)\n"
     ]
    }
   ],
   "source": [
    "seeds = pd.read_csv(\"./seeds_dataset.txt\", sep=\"\\t\")\n",
    "print(\"数据形状: \", seeds.shape)"
   ]
  },
  {
   "cell_type": "code",
   "execution_count": 3,
   "metadata": {},
   "outputs": [],
   "source": [
    "# 处理数据\n",
    "seeds_data = seeds.iloc[:, :7].values\n",
    "seeds_target = seeds.iloc[:, 7].values\n",
    "sees_names = seeds.columns[:7]\n",
    "stdScale = StandardScaler().fit(seeds_data)\n",
    "seeds_dataScale = stdScale.transform(seeds_data)"
   ]
  },
  {
   "cell_type": "code",
   "execution_count": 4,
   "metadata": {},
   "outputs": [
    {
     "name": "stdout",
     "output_type": "stream",
     "text": [
      "构建的KMeans模型为: \n",
      " KMeans(algorithm='auto', copy_x=True, init='k-means++', max_iter=300,\n",
      "    n_clusters=3, n_init=10, n_jobs=None, precompute_distances='auto',\n",
      "    random_state=42, tol=0.0001, verbose=0)\n"
     ]
    }
   ],
   "source": [
    "# 构建并训练模型\n",
    "kmeans = KMeans(n_clusters=3, random_state=42).fit(seeds_data)\n",
    "print(\"构建的KMeans模型为: \\n\", kmeans)"
   ]
  },
  {
   "cell_type": "code",
   "execution_count": 5,
   "metadata": {},
   "outputs": [],
   "source": [
    "# 评价KMeans\n",
    "from sklearn.metrics import calinski_harabaz_score"
   ]
  },
  {
   "cell_type": "code",
   "execution_count": 8,
   "metadata": {},
   "outputs": [
    {
     "name": "stdout",
     "output_type": "stream",
     "text": [
      "seeds数据聚类2类calinski_harabaz指数为: 351.179992\n",
      "seeds数据聚类3类calinski_harabaz指数为: 375.804961\n",
      "seeds数据聚类4类calinski_harabaz指数为: 327.835320\n",
      "seeds数据聚类5类calinski_harabaz指数为: 310.331840\n",
      "seeds数据聚类6类calinski_harabaz指数为: 302.473069\n"
     ]
    }
   ],
   "source": [
    "for i in range(2, 7):\n",
    "    # 构建并训练模型 - 值越大越好\n",
    "    kmeans = KMeans(n_clusters=i, random_state=123).fit(seeds_data)\n",
    "    score = calinski_harabaz_score(seeds_data, kmeans.labels_)\n",
    "    print(\"seeds数据聚类%d类calinski_harabaz指数为: %f\"%(i, score))"
   ]
  },
  {
   "cell_type": "code",
   "execution_count": 11,
   "metadata": {},
   "outputs": [],
   "source": [
    "# 聚类可视化\n",
    "from sklearn.manifold import TSNE\n",
    "import matplotlib.pyplot as plt"
   ]
  },
  {
   "cell_type": "code",
   "execution_count": 16,
   "metadata": {},
   "outputs": [
    {
     "data": {
      "image/png": "[encoded data removed]",
      "text/plain": [
       "<Figure size 648x432 with 1 Axes>"
      ]
     },
     "metadata": {
      "needs_background": "light"
     },
     "output_type": "display_data"
    }
   ],
   "source": [
    "# 使用TSNE降维\n",
    "tsne = TSNE(n_components=2, init=\"random\", random_state=177).fit(seeds_data)\n",
    "df = pd.DataFrame(tsne.embedding_)\n",
    "kmeans = KMeans(n_clusters=3, random_state=123).fit(seeds_data)\n",
    "df['labels'] = kmeans.labels_\n",
    "# 提取数据\n",
    "df1 = df[df['labels'] == 0]\n",
    "df2 = df[df['labels'] == 1]\n",
    "df3 = df[df['labels'] == 2]\n",
    "# 绘图\n",
    "fig = plt.figure(figsize=(9, 6))\n",
    "plt.plot(df1[0], df1[1], 'bo', \\\n",
    "        df2[0], df2[1], 'r*', \\\n",
    "        df3[0], df3[1], 'gD')\n",
    "plt.show()"
   ]
  },
  {
   "cell_type": "code",
   "execution_count": null,
   "metadata": {},
   "outputs": [],
   "source": []
  }
 ],
 "metadata": {
  "kernelspec": {
   "display_name": "Python 3",
   "language": "python",
   "name": "python3"
  },
  "language_info": {
   "codemirror_mode": {
    "name": "ipython",
    "version": 3
   },
   "file_extension": ".py",
   "mimetype": "text/x-python",
   "name": "python",
   "nbconvert_exporter": "python",
   "pygments_lexer": "ipython3",
   "version": "3.7.1"
  }
 },
 "nbformat": 4,
 "nbformat_minor": 2
}

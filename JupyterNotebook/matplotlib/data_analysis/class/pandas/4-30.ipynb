{
 "cells": [
  {
   "cell_type": "code",
   "execution_count": 1,
   "metadata": {},
   "outputs": [
    {
     "name": "stdout",
     "output_type": "stream",
     "text": [
      "                Site           Variety     Yield  Year\n",
      "0          Crookston           Glabron  38.13333  1931\n",
      "1          Crookston         Manchuria  39.93333  1931\n",
      "2          Crookston           No. 457  45.66667  1931\n",
      "3          Crookston           No. 462  48.56666  1931\n",
      "4          Crookston           No. 475  44.10000  1931\n",
      "5          Crookston          Peatland  41.60000  1931\n",
      "6          Crookston          Svansota  40.46667  1931\n",
      "7          Crookston             Trebi  46.93333  1931\n",
      "8          Crookston            Velvet  41.33333  1931\n",
      "9          Crookston  Wisconsin No. 38  49.86667  1931\n",
      "10            Duluth           Glabron  29.66667  1931\n",
      "11            Duluth         Manchuria  28.96667  1931\n",
      "12            Duluth           No. 457  33.60000  1931\n",
      "13            Duluth           No. 462  28.10000  1931\n",
      "14            Duluth           No. 475  33.06666  1931\n",
      "15            Duluth          Peatland  32.00000  1931\n",
      "16            Duluth          Svansota  25.70000  1931\n",
      "17            Duluth             Trebi  33.93333  1931\n",
      "18            Duluth            Velvet  26.30000  1931\n",
      "19            Duluth  Wisconsin No. 38  31.60000  1931\n",
      "20      Grand Rapids           Glabron  29.13333  1931\n",
      "21      Grand Rapids         Manchuria  32.96667  1931\n",
      "22      Grand Rapids           No. 457  32.16667  1931\n",
      "23      Grand Rapids           No. 462  24.93334  1931\n",
      "24      Grand Rapids           No. 475  19.70000  1931\n",
      "25      Grand Rapids          Peatland  34.70000  1931\n",
      "26      Grand Rapids          Svansota  29.66667  1931\n",
      "27      Grand Rapids             Trebi  29.76667  1931\n",
      "28      Grand Rapids            Velvet  23.03333  1931\n",
      "29      Grand Rapids  Wisconsin No. 38  34.46667  1931\n",
      "..               ...               ...       ...   ...\n",
      "90            Morris           Glabron  35.13333  1932\n",
      "91            Morris         Manchuria  34.36666  1932\n",
      "92            Morris           No. 457  43.53334  1932\n",
      "93            Morris           No. 462  47.00000  1932\n",
      "94            Morris           No. 475  44.23333  1932\n",
      "95            Morris          Peatland  43.20000  1932\n",
      "96            Morris          Svansota  35.03333  1932\n",
      "97            Morris             Trebi  46.63333  1932\n",
      "98            Morris            Velvet  38.83333  1932\n",
      "99            Morris  Wisconsin No. 38  47.16667  1932\n",
      "100  University Farm           Glabron  36.80000  1932\n",
      "101  University Farm         Manchuria  26.90000  1932\n",
      "102  University Farm           No. 457  26.43334  1932\n",
      "103  University Farm           No. 462  25.56667  1932\n",
      "104  University Farm           No. 475  30.00000  1932\n",
      "105  University Farm          Peatland  28.06667  1932\n",
      "106  University Farm          Svansota  27.43334  1932\n",
      "107  University Farm             Trebi  29.06667  1932\n",
      "108  University Farm            Velvet  26.80000  1932\n",
      "109  University Farm  Wisconsin No. 38  38.00000  1932\n",
      "110           Waseca           Glabron  37.73333  1932\n",
      "111           Waseca         Manchuria  33.46667  1932\n",
      "112           Waseca           No. 457  42.20000  1932\n",
      "113           Waseca           No. 462  44.70000  1932\n",
      "114           Waseca           No. 475  41.26667  1932\n",
      "115           Waseca          Peatland  36.03333  1932\n",
      "116           Waseca          Svansota  38.50000  1932\n",
      "117           Waseca             Trebi  49.23330  1932\n",
      "118           Waseca            Velvet  37.40000  1932\n",
      "119           Waseca  Wisconsin No. 38  58.16667  1932\n",
      "\n",
      "[120 rows x 4 columns]\n"
     ]
    }
   ],
   "source": [
    "import pandas as pd\n",
    "\n",
    "data = pd.read_csv(\"./barley2.csv\")\n",
    "print(data)"
   ]
  },
  {
   "cell_type": "code",
   "execution_count": 11,
   "metadata": {},
   "outputs": [
    {
     "name": "stdout",
     "output_type": "stream",
     "text": [
      "[['Crookston' 'Glabron' 38.13333 1931]\n",
      " ['Crookston' 'Manchuria' 39.93333 1931]\n",
      " ['Crookston' 'No. 457' 45.66667 1931]\n",
      " ['Crookston' 'No. 462' 48.56666 1931]\n",
      " ['Crookston' 'No. 475' 44.1 1931]\n",
      " ['Crookston' 'Peatland' 41.6 1931]\n",
      " ['Crookston' 'Svansota' 40.46667 1931]\n",
      " ['Crookston' 'Trebi' 46.93333 1931]\n",
      " ['Crookston' 'Velvet' 41.33333 1931]\n",
      " ['Crookston' 'Wisconsin No. 38' 49.86667 1931]\n",
      " ['Duluth' 'Glabron' 29.66667 1931]\n",
      " ['Duluth' 'Manchuria' 28.96667 1931]\n",
      " ['Duluth' 'No. 457' 33.6 1931]\n",
      " ['Duluth' 'No. 462' 28.1 1931]\n",
      " ['Duluth' 'No. 475' 33.06666 1931]\n",
      " ['Duluth' 'Peatland' 32.0 1931]\n",
      " ['Duluth' 'Svansota' 25.7 1931]\n",
      " ['Duluth' 'Trebi' 33.93333 1931]\n",
      " ['Duluth' 'Velvet' 26.3 1931]\n",
      " ['Duluth' 'Wisconsin No. 38' 31.6 1931]\n",
      " ['Grand Rapids' 'Glabron' 29.133329999999997 1931]\n",
      " ['Grand Rapids' 'Manchuria' 32.96667 1931]\n",
      " ['Grand Rapids' 'No. 457' 32.16667 1931]\n",
      " ['Grand Rapids' 'No. 462' 24.93334 1931]\n",
      " ['Grand Rapids' 'No. 475' 19.7 1931]\n",
      " ['Grand Rapids' 'Peatland' 34.7 1931]\n",
      " ['Grand Rapids' 'Svansota' 29.66667 1931]\n",
      " ['Grand Rapids' 'Trebi' 29.76667 1931]\n",
      " ['Grand Rapids' 'Velvet' 23.03333 1931]\n",
      " ['Grand Rapids' 'Wisconsin No. 38' 34.46667 1931]\n",
      " ['Morris' 'Glabron' 28.76667 1931]\n",
      " ['Morris' 'Manchuria' 27.43334 1931]\n",
      " ['Morris' 'No. 457' 28.7 1931]\n",
      " ['Morris' 'No. 462' 30.366670000000003 1931]\n",
      " ['Morris' 'No. 475' 22.6 1931]\n",
      " ['Morris' 'Peatland' 29.866670000000003 1931]\n",
      " ['Morris' 'Svansota' 25.76667 1931]\n",
      " ['Morris' 'Trebi' 43.76667 1931]\n",
      " ['Morris' 'Velvet' 26.133329999999997 1931]\n",
      " ['Morris' 'Wisconsin No. 38' 29.46667 1931]\n",
      " ['University Farm' 'Glabron' 43.06666 1931]\n",
      " ['University Farm' 'Manchuria' 27.0 1931]\n",
      " ['University Farm' 'No. 457' 43.26667 1931]\n",
      " ['University Farm' 'No. 462' 36.6 1931]\n",
      " ['University Farm' 'No. 475' 24.66667 1931]\n",
      " ['University Farm' 'Peatland' 32.76667 1931]\n",
      " ['University Farm' 'Svansota' 35.13333 1931]\n",
      " ['University Farm' 'Trebi' 36.56666 1931]\n",
      " ['University Farm' 'Velvet' 39.9 1931]\n",
      " ['University Farm' 'Wisconsin No. 38' 39.3 1931]\n",
      " ['Waseca' 'Glabron' 55.2 1931]\n",
      " ['Waseca' 'Manchuria' 48.86667 1931]\n",
      " ['Waseca' 'No. 457' 58.1 1931]\n",
      " ['Waseca' 'No. 462' 65.7667 1931]\n",
      " ['Waseca' 'No. 475' 46.76667 1931]\n",
      " ['Waseca' 'Peatland' 48.56666 1931]\n",
      " ['Waseca' 'Svansota' 47.33333 1931]\n",
      " ['Waseca' 'Trebi' 63.8333 1931]\n",
      " ['Waseca' 'Velvet' 50.23333 1931]\n",
      " ['Waseca' 'Wisconsin No. 38' 58.8 1931]\n",
      " ['Crookston' 'Glabron' 26.16667 1932]\n",
      " ['Crookston' 'Manchuria' 32.96667 1932]\n",
      " ['Crookston' 'No. 457' 34.33333 1932]\n",
      " ['Crookston' 'No. 462' 30.53333 1932]\n",
      " ['Crookston' 'No. 475' 32.13333 1932]\n",
      " ['Crookston' 'Peatland' 25.23333 1932]\n",
      " ['Crookston' 'Svansota' 20.633329999999997 1932]\n",
      " ['Crookston' 'Trebi' 41.83333 1932]\n",
      " ['Crookston' 'Velvet' 32.06666 1932]\n",
      " ['Crookston' 'Wisconsin No. 38' 35.9 1932]\n",
      " ['Duluth' 'Glabron' 25.866670000000003 1932]\n",
      " ['Duluth' 'Manchuria' 22.566670000000002 1932]\n",
      " ['Duluth' 'No. 457' 22.7 1932]\n",
      " ['Duluth' 'No. 462' 22.5 1932]\n",
      " ['Duluth' 'No. 475' 27.366670000000003 1932]\n",
      " ['Duluth' 'Peatland' 31.366670000000003 1932]\n",
      " ['Duluth' 'Svansota' 22.23333 1932]\n",
      " ['Duluth' 'Trebi' 30.6 1932]\n",
      " ['Duluth' 'Velvet' 22.46667 1932]\n",
      " ['Duluth' 'Wisconsin No. 38' 29.33333 1932]\n",
      " ['Grand Rapids' 'Glabron' 14.433329999999998 1932]\n",
      " ['Grand Rapids' 'Manchuria' 22.133329999999997 1932]\n",
      " ['Grand Rapids' 'No. 457' 19.46667 1932]\n",
      " ['Grand Rapids' 'No. 462' 19.9 1932]\n",
      " ['Grand Rapids' 'No. 475' 15.233329999999999 1932]\n",
      " ['Grand Rapids' 'Peatland' 26.76667 1932]\n",
      " ['Grand Rapids' 'Svansota' 16.633329999999997 1932]\n",
      " ['Grand Rapids' 'Trebi' 20.633329999999997 1932]\n",
      " ['Grand Rapids' 'Velvet' 32.23333 1932]\n",
      " ['Grand Rapids' 'Wisconsin No. 38' 20.66667 1932]\n",
      " ['Morris' 'Glabron' 35.13333 1932]\n",
      " ['Morris' 'Manchuria' 34.366659999999996 1932]\n",
      " ['Morris' 'No. 457' 43.53334 1932]\n",
      " ['Morris' 'No. 462' 47.0 1932]\n",
      " ['Morris' 'No. 475' 44.23333 1932]\n",
      " ['Morris' 'Peatland' 43.2 1932]\n",
      " ['Morris' 'Svansota' 35.03333 1932]\n",
      " ['Morris' 'Trebi' 46.63333 1932]\n",
      " ['Morris' 'Velvet' 38.83333 1932]\n",
      " ['Morris' 'Wisconsin No. 38' 47.16667 1932]\n",
      " ['University Farm' 'Glabron' 36.8 1932]\n",
      " ['University Farm' 'Manchuria' 26.9 1932]\n",
      " ['University Farm' 'No. 457' 26.43334 1932]\n",
      " ['University Farm' 'No. 462' 25.566670000000002 1932]\n",
      " ['University Farm' 'No. 475' 30.0 1932]\n",
      " ['University Farm' 'Peatland' 28.066670000000002 1932]\n",
      " ['University Farm' 'Svansota' 27.43334 1932]\n",
      " ['University Farm' 'Trebi' 29.066670000000002 1932]\n",
      " ['University Farm' 'Velvet' 26.8 1932]\n",
      " ['University Farm' 'Wisconsin No. 38' 38.0 1932]\n",
      " ['Waseca' 'Glabron' 37.73333 1932]\n",
      " ['Waseca' 'Manchuria' 33.46667 1932]\n",
      " ['Waseca' 'No. 457' 42.2 1932]\n",
      " ['Waseca' 'No. 462' 44.7 1932]\n",
      " ['Waseca' 'No. 475' 41.26667 1932]\n",
      " ['Waseca' 'Peatland' 36.03333 1932]\n",
      " ['Waseca' 'Svansota' 38.5 1932]\n",
      " ['Waseca' 'Trebi' 49.2333 1932]\n",
      " ['Waseca' 'Velvet' 37.4 1932]\n",
      " ['Waseca' 'Wisconsin No. 38' 58.166669999999996 1932]]\n",
      "<class 'numpy.ndarray'>\n"
     ]
    }
   ],
   "source": [
    "print(data.values)\n",
    "print(type(data.values))"
   ]
  },
  {
   "cell_type": "code",
   "execution_count": 7,
   "metadata": {},
   "outputs": [
    {
     "name": "stdout",
     "output_type": "stream",
     "text": [
      "Index(['Site', 'Variety', 'Yield', 'Year'], dtype='object')\n",
      "RangeIndex(start=0, stop=120, step=1)\n",
      "(120, 4)\n",
      "2\n",
      "Site        object\n",
      "Variety     object\n",
      "Yield      float64\n",
      "Year         int64\n",
      "dtype: object\n"
     ]
    }
   ],
   "source": [
    "print(data.columns)\n",
    "print(data.index)\n",
    "print(data.shape)\n",
    "print(data.ndim)\n",
    "print(data.dtypes)"
   ]
  },
  {
   "cell_type": "code",
   "execution_count": 12,
   "metadata": {},
   "outputs": [
    {
     "name": "stdout",
     "output_type": "stream",
     "text": [
      "               Site           Variety     Yield  Year\n",
      "0         Crookston           Glabron  38.13333  1931\n",
      "1         Crookston         Manchuria  39.93333  1931\n",
      "2         Crookston           No. 457  45.66667  1931\n",
      "3         Crookston           No. 462  48.56666  1931\n",
      "4         Crookston           No. 475  44.10000  1931\n",
      "5         Crookston          Peatland  41.60000  1931\n",
      "6         Crookston          Svansota  40.46667  1931\n",
      "7         Crookston             Trebi  46.93333  1931\n",
      "8         Crookston            Velvet  41.33333  1931\n",
      "9         Crookston  Wisconsin No. 38  49.86667  1931\n",
      "10           Duluth           Glabron  29.66667  1931\n",
      "11           Duluth         Manchuria  28.96667  1931\n",
      "12           Duluth           No. 457  33.60000  1931\n",
      "13           Duluth           No. 462  28.10000  1931\n",
      "14           Duluth           No. 475  33.06666  1931\n",
      "15           Duluth          Peatland  32.00000  1931\n",
      "16           Duluth          Svansota  25.70000  1931\n",
      "17           Duluth             Trebi  33.93333  1931\n",
      "18           Duluth            Velvet  26.30000  1931\n",
      "19           Duluth  Wisconsin No. 38  31.60000  1931\n",
      "20     Grand Rapids           Glabron  29.13333  1931\n",
      "21     Grand Rapids         Manchuria  32.96667  1931\n",
      "22     Grand Rapids           No. 457  32.16667  1931\n",
      "23     Grand Rapids           No. 462  24.93334  1931\n",
      "24     Grand Rapids           No. 475  19.70000  1931\n",
      "25     Grand Rapids          Peatland  34.70000  1931\n",
      "26     Grand Rapids          Svansota  29.66667  1931\n",
      "27     Grand Rapids             Trebi  29.76667  1931\n",
      "28     Grand Rapids            Velvet  23.03333  1931\n",
      "29     Grand Rapids  Wisconsin No. 38  34.46667  1931\n",
      "30           Morris           Glabron  28.76667  1931\n",
      "31           Morris         Manchuria  27.43334  1931\n",
      "32           Morris           No. 457  28.70000  1931\n",
      "33           Morris           No. 462  30.36667  1931\n",
      "34           Morris           No. 475  22.60000  1931\n",
      "35           Morris          Peatland  29.86667  1931\n",
      "36           Morris          Svansota  25.76667  1931\n",
      "37           Morris             Trebi  43.76667  1931\n",
      "38           Morris            Velvet  26.13333  1931\n",
      "39           Morris  Wisconsin No. 38  29.46667  1931\n",
      "40  University Farm           Glabron  43.06666  1931\n",
      "41  University Farm         Manchuria  27.00000  1931\n",
      "42  University Farm           No. 457  43.26667  1931\n",
      "43  University Farm           No. 462  36.60000  1931\n",
      "44  University Farm           No. 475  24.66667  1931\n",
      "45  University Farm          Peatland  32.76667  1931\n",
      "46  University Farm          Svansota  35.13333  1931\n",
      "47  University Farm             Trebi  36.56666  1931\n",
      "48  University Farm            Velvet  39.90000  1931\n",
      "49  University Farm  Wisconsin No. 38  39.30000  1931\n",
      "50           Waseca           Glabron  55.20000  1931\n",
      "51           Waseca         Manchuria  48.86667  1931\n",
      "52           Waseca           No. 457  58.10000  1931\n",
      "53           Waseca           No. 462  65.76670  1931\n",
      "54           Waseca           No. 475  46.76667  1931\n",
      "55           Waseca          Peatland  48.56666  1931\n",
      "56           Waseca          Svansota  47.33333  1931\n",
      "57           Waseca             Trebi  63.83330  1931\n",
      "58           Waseca            Velvet  50.23333  1931\n",
      "59           Waseca  Wisconsin No. 38  58.80000  1931\n"
     ]
    }
   ],
   "source": [
    "# loc切片\n",
    "print(data.loc[data['Year']==1931])"
   ]
  },
  {
   "cell_type": "code",
   "execution_count": 18,
   "metadata": {},
   "outputs": [
    {
     "name": "stdout",
     "output_type": "stream",
     "text": [
      "0    Crookston\n",
      "1    Crookston\n",
      "2    Crookston\n",
      "3    Crookston\n",
      "4    Crookston\n",
      "Name: Site, dtype: object\n"
     ]
    }
   ],
   "source": [
    "o = data[['Site', 'Yield']][:5]['Site']\n",
    "print(o)"
   ]
  },
  {
   "cell_type": "code",
   "execution_count": 20,
   "metadata": {},
   "outputs": [
    {
     "name": "stdout",
     "output_type": "stream",
     "text": [
      "0      1931\n",
      "1      1931\n",
      "2      1931\n",
      "3      1931\n",
      "4      1931\n",
      "5      1931\n",
      "6      1931\n",
      "7      1931\n",
      "8      1931\n",
      "9      1931\n",
      "10     1931\n",
      "11     1931\n",
      "12     1931\n",
      "13     1931\n",
      "14     1931\n",
      "15     1931\n",
      "16     1931\n",
      "17     1931\n",
      "18     1931\n",
      "19     1931\n",
      "20     1931\n",
      "21     1931\n",
      "22     1931\n",
      "23     1931\n",
      "24     1931\n",
      "25     1931\n",
      "26     1931\n",
      "27     1931\n",
      "28     1931\n",
      "29     1931\n",
      "       ... \n",
      "90     1932\n",
      "91     1932\n",
      "92     1932\n",
      "93     1932\n",
      "94     1932\n",
      "95     1932\n",
      "96     1932\n",
      "97     1932\n",
      "98     1932\n",
      "99     1932\n",
      "100    1932\n",
      "101    1932\n",
      "102    1932\n",
      "103    1932\n",
      "104    1932\n",
      "105    1932\n",
      "106    1932\n",
      "107    1932\n",
      "108    1932\n",
      "109    1932\n",
      "110    1932\n",
      "111    1932\n",
      "112    1932\n",
      "113    1932\n",
      "114    1932\n",
      "115    1932\n",
      "116    1932\n",
      "117    1932\n",
      "118    1932\n",
      "119    1932\n",
      "Name: Year, Length: 120, dtype: int64\n"
     ]
    }
   ],
   "source": [
    "print(data.loc[:, 'Year'])"
   ]
  },
  {
   "cell_type": "code",
   "execution_count": 21,
   "metadata": {},
   "outputs": [
    {
     "name": "stdout",
     "output_type": "stream",
     "text": [
      "                Site  Year\n",
      "0          Crookston  1931\n",
      "1          Crookston  1931\n",
      "2          Crookston  1931\n",
      "3          Crookston  1931\n",
      "4          Crookston  1931\n",
      "5          Crookston  1931\n",
      "6          Crookston  1931\n",
      "7          Crookston  1931\n",
      "8          Crookston  1931\n",
      "9          Crookston  1931\n",
      "10            Duluth  1931\n",
      "11            Duluth  1931\n",
      "12            Duluth  1931\n",
      "13            Duluth  1931\n",
      "14            Duluth  1931\n",
      "15            Duluth  1931\n",
      "16            Duluth  1931\n",
      "17            Duluth  1931\n",
      "18            Duluth  1931\n",
      "19            Duluth  1931\n",
      "20      Grand Rapids  1931\n",
      "21      Grand Rapids  1931\n",
      "22      Grand Rapids  1931\n",
      "23      Grand Rapids  1931\n",
      "24      Grand Rapids  1931\n",
      "25      Grand Rapids  1931\n",
      "26      Grand Rapids  1931\n",
      "27      Grand Rapids  1931\n",
      "28      Grand Rapids  1931\n",
      "29      Grand Rapids  1931\n",
      "..               ...   ...\n",
      "90            Morris  1932\n",
      "91            Morris  1932\n",
      "92            Morris  1932\n",
      "93            Morris  1932\n",
      "94            Morris  1932\n",
      "95            Morris  1932\n",
      "96            Morris  1932\n",
      "97            Morris  1932\n",
      "98            Morris  1932\n",
      "99            Morris  1932\n",
      "100  University Farm  1932\n",
      "101  University Farm  1932\n",
      "102  University Farm  1932\n",
      "103  University Farm  1932\n",
      "104  University Farm  1932\n",
      "105  University Farm  1932\n",
      "106  University Farm  1932\n",
      "107  University Farm  1932\n",
      "108  University Farm  1932\n",
      "109  University Farm  1932\n",
      "110           Waseca  1932\n",
      "111           Waseca  1932\n",
      "112           Waseca  1932\n",
      "113           Waseca  1932\n",
      "114           Waseca  1932\n",
      "115           Waseca  1932\n",
      "116           Waseca  1932\n",
      "117           Waseca  1932\n",
      "118           Waseca  1932\n",
      "119           Waseca  1932\n",
      "\n",
      "[120 rows x 2 columns]\n"
     ]
    }
   ],
   "source": [
    "print(data.loc[:, ['Site', 'Year']])"
   ]
  },
  {
   "cell_type": "code",
   "execution_count": 22,
   "metadata": {},
   "outputs": [
    {
     "name": "stdout",
     "output_type": "stream",
     "text": [
      "Site    Crookston\n",
      "Year         1931\n",
      "Name: 3, dtype: object\n"
     ]
    }
   ],
   "source": [
    "print(data.loc[3, ['Site', 'Year']])"
   ]
  },
  {
   "cell_type": "code",
   "execution_count": 24,
   "metadata": {},
   "outputs": [
    {
     "name": "stdout",
     "output_type": "stream",
     "text": [
      "        Site   Variety     Yield\n",
      "2  Crookston   No. 457  45.66667\n",
      "3  Crookston   No. 462  48.56666\n",
      "4  Crookston   No. 475  44.10000\n",
      "5  Crookston  Peatland  41.60000\n"
     ]
    }
   ],
   "source": [
    "print(data.iloc[2:6, 0:3])"
   ]
  },
  {
   "cell_type": "code",
   "execution_count": 28,
   "metadata": {},
   "outputs": [
    {
     "name": "stdout",
     "output_type": "stream",
     "text": [
      "430.16668999999996\n"
     ]
    }
   ],
   "source": [
    "print(data.iloc[(data['Variety']=='No. 457').values, :]['Yield'].sum())"
   ]
  },
  {
   "cell_type": "code",
   "execution_count": 31,
   "metadata": {},
   "outputs": [
    {
     "name": "stdout",
     "output_type": "stream",
     "text": [
      "2     No. 457\n",
      "3     No. 462\n",
      "4     No. 475\n",
      "5    Peatland\n",
      "6    Svansota\n",
      "Name: Variety, dtype: object\n"
     ]
    },
    {
     "name": "stderr",
     "output_type": "stream",
     "text": [
      "G:\\soft\\Anaconda3\\lib\\site-packages\\ipykernel_launcher.py:1: DeprecationWarning: \n",
      ".ix is deprecated. Please use\n",
      ".loc for label based indexing or\n",
      ".iloc for positional indexing\n",
      "\n",
      "See the documentation here:\n",
      "http://pandas.pydata.org/pandas-docs/stable/indexing.html#ix-indexer-is-deprecated\n",
      "  \"\"\"Entry point for launching an IPython kernel.\n"
     ]
    }
   ],
   "source": [
    "print(data.ix[2:6, 1])"
   ]
  },
  {
   "cell_type": "code",
   "execution_count": 32,
   "metadata": {},
   "outputs": [
    {
     "name": "stdout",
     "output_type": "stream",
     "text": [
      "                Site           Variety     Yield  Year  hh\n",
      "0          Crookston           Glabron  38.13333  1931   5\n",
      "1          Crookston         Manchuria  39.93333  1931   5\n",
      "2          Crookston           No. 457  45.66667  1931   5\n",
      "3          Crookston           No. 462  48.56666  1931   5\n",
      "4          Crookston           No. 475  44.10000  1931   5\n",
      "5          Crookston          Peatland  41.60000  1931   5\n",
      "6          Crookston          Svansota  40.46667  1931   5\n",
      "7          Crookston             Trebi  46.93333  1931   5\n",
      "8          Crookston            Velvet  41.33333  1931   5\n",
      "9          Crookston  Wisconsin No. 38  49.86667  1931   5\n",
      "10            Duluth           Glabron  29.66667  1931   5\n",
      "11            Duluth         Manchuria  28.96667  1931   5\n",
      "12            Duluth           No. 457  33.60000  1931   5\n",
      "13            Duluth           No. 462  28.10000  1931   5\n",
      "14            Duluth           No. 475  33.06666  1931   5\n",
      "15            Duluth          Peatland  32.00000  1931   5\n",
      "16            Duluth          Svansota  25.70000  1931   5\n",
      "17            Duluth             Trebi  33.93333  1931   5\n",
      "18            Duluth            Velvet  26.30000  1931   5\n",
      "19            Duluth  Wisconsin No. 38  31.60000  1931   5\n",
      "20      Grand Rapids           Glabron  29.13333  1931   5\n",
      "21      Grand Rapids         Manchuria  32.96667  1931   5\n",
      "22      Grand Rapids           No. 457  32.16667  1931   5\n",
      "23      Grand Rapids           No. 462  24.93334  1931   5\n",
      "24      Grand Rapids           No. 475  19.70000  1931   5\n",
      "25      Grand Rapids          Peatland  34.70000  1931   5\n",
      "26      Grand Rapids          Svansota  29.66667  1931   5\n",
      "27      Grand Rapids             Trebi  29.76667  1931   5\n",
      "28      Grand Rapids            Velvet  23.03333  1931   5\n",
      "29      Grand Rapids  Wisconsin No. 38  34.46667  1931   5\n",
      "..               ...               ...       ...   ...  ..\n",
      "90            Morris           Glabron  35.13333  1932   5\n",
      "91            Morris         Manchuria  34.36666  1932   5\n",
      "92            Morris           No. 457  43.53334  1932   5\n",
      "93            Morris           No. 462  47.00000  1932   5\n",
      "94            Morris           No. 475  44.23333  1932   5\n",
      "95            Morris          Peatland  43.20000  1932   5\n",
      "96            Morris          Svansota  35.03333  1932   5\n",
      "97            Morris             Trebi  46.63333  1932   5\n",
      "98            Morris            Velvet  38.83333  1932   5\n",
      "99            Morris  Wisconsin No. 38  47.16667  1932   5\n",
      "100  University Farm           Glabron  36.80000  1932   5\n",
      "101  University Farm         Manchuria  26.90000  1932   5\n",
      "102  University Farm           No. 457  26.43334  1932   5\n",
      "103  University Farm           No. 462  25.56667  1932   5\n",
      "104  University Farm           No. 475  30.00000  1932   5\n",
      "105  University Farm          Peatland  28.06667  1932   5\n",
      "106  University Farm          Svansota  27.43334  1932   5\n",
      "107  University Farm             Trebi  29.06667  1932   5\n",
      "108  University Farm            Velvet  26.80000  1932   5\n",
      "109  University Farm  Wisconsin No. 38  38.00000  1932   5\n",
      "110           Waseca           Glabron  37.73333  1932   5\n",
      "111           Waseca         Manchuria  33.46667  1932   5\n",
      "112           Waseca           No. 457  42.20000  1932   5\n",
      "113           Waseca           No. 462  44.70000  1932   5\n",
      "114           Waseca           No. 475  41.26667  1932   5\n",
      "115           Waseca          Peatland  36.03333  1932   5\n",
      "116           Waseca          Svansota  38.50000  1932   5\n",
      "117           Waseca             Trebi  49.23330  1932   5\n",
      "118           Waseca            Velvet  37.40000  1932   5\n",
      "119           Waseca  Wisconsin No. 38  58.16667  1932   5\n",
      "\n",
      "[120 rows x 5 columns]\n"
     ]
    }
   ],
   "source": [
    "data['hh'] = 5\n",
    "print(data)"
   ]
  },
  {
   "cell_type": "code",
   "execution_count": 33,
   "metadata": {},
   "outputs": [
    {
     "name": "stdout",
     "output_type": "stream",
     "text": [
      "                Site           Variety     Yield  Year\n",
      "0          Crookston           Glabron  38.13333  1931\n",
      "1          Crookston         Manchuria  39.93333  1931\n",
      "2          Crookston           No. 457  45.66667  1931\n",
      "3          Crookston           No. 462  48.56666  1931\n",
      "4          Crookston           No. 475  44.10000  1931\n",
      "5          Crookston          Peatland  41.60000  1931\n",
      "6          Crookston          Svansota  40.46667  1931\n",
      "7          Crookston             Trebi  46.93333  1931\n",
      "8          Crookston            Velvet  41.33333  1931\n",
      "9          Crookston  Wisconsin No. 38  49.86667  1931\n",
      "10            Duluth           Glabron  29.66667  1931\n",
      "11            Duluth         Manchuria  28.96667  1931\n",
      "12            Duluth           No. 457  33.60000  1931\n",
      "13            Duluth           No. 462  28.10000  1931\n",
      "14            Duluth           No. 475  33.06666  1931\n",
      "15            Duluth          Peatland  32.00000  1931\n",
      "16            Duluth          Svansota  25.70000  1931\n",
      "17            Duluth             Trebi  33.93333  1931\n",
      "18            Duluth            Velvet  26.30000  1931\n",
      "19            Duluth  Wisconsin No. 38  31.60000  1931\n",
      "20      Grand Rapids           Glabron  29.13333  1931\n",
      "21      Grand Rapids         Manchuria  32.96667  1931\n",
      "22      Grand Rapids           No. 457  32.16667  1931\n",
      "23      Grand Rapids           No. 462  24.93334  1931\n",
      "24      Grand Rapids           No. 475  19.70000  1931\n",
      "25      Grand Rapids          Peatland  34.70000  1931\n",
      "26      Grand Rapids          Svansota  29.66667  1931\n",
      "27      Grand Rapids             Trebi  29.76667  1931\n",
      "28      Grand Rapids            Velvet  23.03333  1931\n",
      "29      Grand Rapids  Wisconsin No. 38  34.46667  1931\n",
      "..               ...               ...       ...   ...\n",
      "90            Morris           Glabron  35.13333  1932\n",
      "91            Morris         Manchuria  34.36666  1932\n",
      "92            Morris           No. 457  43.53334  1932\n",
      "93            Morris           No. 462  47.00000  1932\n",
      "94            Morris           No. 475  44.23333  1932\n",
      "95            Morris          Peatland  43.20000  1932\n",
      "96            Morris          Svansota  35.03333  1932\n",
      "97            Morris             Trebi  46.63333  1932\n",
      "98            Morris            Velvet  38.83333  1932\n",
      "99            Morris  Wisconsin No. 38  47.16667  1932\n",
      "100  University Farm           Glabron  36.80000  1932\n",
      "101  University Farm         Manchuria  26.90000  1932\n",
      "102  University Farm           No. 457  26.43334  1932\n",
      "103  University Farm           No. 462  25.56667  1932\n",
      "104  University Farm           No. 475  30.00000  1932\n",
      "105  University Farm          Peatland  28.06667  1932\n",
      "106  University Farm          Svansota  27.43334  1932\n",
      "107  University Farm             Trebi  29.06667  1932\n",
      "108  University Farm            Velvet  26.80000  1932\n",
      "109  University Farm  Wisconsin No. 38  38.00000  1932\n",
      "110           Waseca           Glabron  37.73333  1932\n",
      "111           Waseca         Manchuria  33.46667  1932\n",
      "112           Waseca           No. 457  42.20000  1932\n",
      "113           Waseca           No. 462  44.70000  1932\n",
      "114           Waseca           No. 475  41.26667  1932\n",
      "115           Waseca          Peatland  36.03333  1932\n",
      "116           Waseca          Svansota  38.50000  1932\n",
      "117           Waseca             Trebi  49.23330  1932\n",
      "118           Waseca            Velvet  37.40000  1932\n",
      "119           Waseca  Wisconsin No. 38  58.16667  1932\n",
      "\n",
      "[120 rows x 4 columns]\n"
     ]
    }
   ],
   "source": [
    "data.drop(labels='hh', axis=1, inplace=True)\n",
    "print(data)"
   ]
  },
  {
   "cell_type": "code",
   "execution_count": 34,
   "metadata": {},
   "outputs": [
    {
     "name": "stdout",
     "output_type": "stream",
     "text": [
      "count    120.000000\n",
      "mean      34.420555\n",
      "std       10.334706\n",
      "min       14.433330\n",
      "25%       26.875000\n",
      "50%       32.866670\n",
      "75%       41.399997\n",
      "max       65.766700\n",
      "Name: Yield, dtype: float64\n"
     ]
    }
   ],
   "source": [
    "print(data['Yield'].describe())"
   ]
  },
  {
   "cell_type": "code",
   "execution_count": 35,
   "metadata": {},
   "outputs": [
    {
     "name": "stdout",
     "output_type": "stream",
     "text": [
      "Waseca             20\n",
      "Crookston          20\n",
      "Morris             20\n",
      "University Farm    20\n",
      "Grand Rapids       20\n",
      "Duluth             20\n",
      "Name: Site, dtype: int64\n"
     ]
    }
   ],
   "source": [
    "print(data['Site'].value_counts())"
   ]
  },
  {
   "cell_type": "code",
   "execution_count": 38,
   "metadata": {},
   "outputs": [
    {
     "name": "stdout",
     "output_type": "stream",
     "text": [
      "        Site    Variety     Yield  Year\n",
      "1  Crookston  Manchuria  39.93333  1931\n",
      "2  Crookston    No. 457  45.66667  1931\n",
      "3  Crookston    No. 462  48.56666  1931\n",
      "4  Crookston    No. 475  44.10000  1931\n",
      "5  Crookston   Peatland  41.60000  1931\n",
      "        Site    Variety     Yield  Year\n",
      "1  Crookston  Manchuria  39.93333  1931\n",
      "2  Crookston    No. 457  45.66667  1931\n",
      "3  Crookston    No. 462  48.56666  1931\n",
      "4  Crookston    No. 475  44.10000  1931\n",
      "5  Crookston   Peatland  41.60000  1931\n"
     ]
    }
   ],
   "source": [
    "print(data[:][1:6])\n",
    "print(data[1:6])\n"
   ]
  },
  {
   "cell_type": "code",
   "execution_count": 39,
   "metadata": {},
   "outputs": [
    {
     "name": "stdout",
     "output_type": "stream",
     "text": [
      "Index       80\n",
      "Site       960\n",
      "Variety    960\n",
      "Yield      960\n",
      "Year       960\n",
      "dtype: int64\n"
     ]
    }
   ],
   "source": [
    "print(data.memory_usage())"
   ]
  },
  {
   "cell_type": "code",
   "execution_count": 42,
   "metadata": {},
   "outputs": [
    {
     "name": "stdout",
     "output_type": "stream",
     "text": [
      "Site        object\n",
      "Variety     object\n",
      "Yield      float64\n",
      "Year         int64\n",
      "dtype: object\n",
      "(120, 4)\n",
      "480\n",
      "2\n",
      "Index       80\n",
      "Site       960\n",
      "Variety    960\n",
      "Yield      960\n",
      "Year       960\n",
      "dtype: int64\n"
     ]
    }
   ],
   "source": [
    "# 实训1\n",
    "data = pd.read_csv(\"./barley2.csv\")\n",
    "print(data.dtypes)\n",
    "print(data.shape)\n",
    "print(data.size)\n",
    "print(data.ndim)\n",
    "print(data.memory_usage())"
   ]
  },
  {
   "cell_type": "code",
   "execution_count": 44,
   "metadata": {},
   "outputs": [
    {
     "name": "stdout",
     "output_type": "stream",
     "text": [
      "count    120.000000\n",
      "mean      34.420555\n",
      "std       10.334706\n",
      "min       14.433330\n",
      "25%       26.875000\n",
      "50%       32.866670\n",
      "75%       41.399997\n",
      "max       65.766700\n",
      "Name: Yield, dtype: float64\n"
     ]
    }
   ],
   "source": [
    "print(data['Yield'].describe())"
   ]
  },
  {
   "cell_type": "code",
   "execution_count": null,
   "metadata": {},
   "outputs": [],
   "source": []
  }
 ],
 "metadata": {
  "kernelspec": {
   "display_name": "Python 3",
   "language": "python",
   "name": "python3"
  },
  "language_info": {
   "codemirror_mode": {
    "name": "ipython",
    "version": 3
   },
   "file_extension": ".py",
   "mimetype": "text/x-python",
   "name": "python",
   "nbconvert_exporter": "python",
   "pygments_lexer": "ipython3",
   "version": "3.7.1"
  }
 },
 "nbformat": 4,
 "nbformat_minor": 2
}

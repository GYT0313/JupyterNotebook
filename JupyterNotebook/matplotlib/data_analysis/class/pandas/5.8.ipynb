{
 "cells": [
  {
   "cell_type": "code",
   "execution_count": 2,
   "metadata": {},
   "outputs": [
    {
     "name": "stdout",
     "output_type": "stream",
     "text": [
      "{'a': [1, 2, 3], 'b': [4, 5, 6], 'c': [7, 8, 9]}\n"
     ]
    }
   ],
   "source": [
    "import pandas as pd\n",
    "\n",
    "aDict = {\"a\":[1,2,3], \"b\":[4,5,6], \"c\":[7,8,9]}\n",
    "df = pd.DataFrame(aDict)\n",
    "\n",
    "print(aDict)"
   ]
  },
  {
   "cell_type": "code",
   "execution_count": 10,
   "metadata": {},
   "outputs": [
    {
     "name": "stdout",
     "output_type": "stream",
     "text": [
      "      a  b  c\n",
      "0     1  4  7\n",
      "1     2  5  8\n",
      "2     3  6  9\n",
      "new   5  5  5\n",
      "new2  1  1  1\n"
     ]
    }
   ],
   "source": [
    "# 添加行\n",
    "df.loc[\"new\"] = 5\n",
    "df.loc[\"new2\"] = [1,1,1]\n",
    "\n",
    "print(df)"
   ]
  },
  {
   "cell_type": "code",
   "execution_count": 13,
   "metadata": {},
   "outputs": [
    {
     "name": "stdout",
     "output_type": "stream",
     "text": [
      "      a  b  c  d\n",
      "0     1  4  7  6\n",
      "1     2  5  8  6\n",
      "2     3  6  9  6\n",
      "new   5  5  5  6\n",
      "new2  1  1  1  6\n"
     ]
    }
   ],
   "source": [
    "# 添加列\n",
    "df.loc[:,\"d\"] = 6\n",
    "print(df)"
   ]
  },
  {
   "cell_type": "code",
   "execution_count": 14,
   "metadata": {},
   "outputs": [
    {
     "name": "stdout",
     "output_type": "stream",
     "text": [
      "      a  b  c  d\n",
      "0     1  4  7  6\n",
      "1     8  8  8  8\n",
      "2     3  6  9  6\n",
      "new   5  5  5  6\n",
      "new2  1  1  1  6\n"
     ]
    }
   ],
   "source": [
    "# 修改行数据\n",
    "df.loc[1] = 8\n",
    "print(df)"
   ]
  },
  {
   "cell_type": "code",
   "execution_count": 15,
   "metadata": {},
   "outputs": [
    {
     "name": "stdout",
     "output_type": "stream",
     "text": [
      "      a  b  c  d  e\n",
      "0     1  4  7  6  9\n",
      "1     8  8  8  8  9\n",
      "2     3  6  9  6  9\n",
      "new   5  5  5  6  9\n",
      "new2  1  1  1  6  9\n"
     ]
    }
   ],
   "source": [
    "# 添加列数据\n",
    "df[\"e\"] = 9\n",
    "print(df)"
   ]
  },
  {
   "cell_type": "code",
   "execution_count": 27,
   "metadata": {},
   "outputs": [
    {
     "name": "stdout",
     "output_type": "stream",
     "text": [
      "      a  b  c  d  e\n",
      "0     1  4  7  6  1\n",
      "1     8  8  8  8  2\n",
      "2     3  6  9  6  3\n",
      "new   5  5  5  6  4\n",
      "new2  1  1  1  6  5\n"
     ]
    }
   ],
   "source": [
    "# 修改行数据\n",
    "df[\"e\"] = [1,2,3,4,5]\n",
    "print(df)"
   ]
  },
  {
   "cell_type": "code",
   "execution_count": 24,
   "metadata": {},
   "outputs": [
    {
     "name": "stdout",
     "output_type": "stream",
     "text": [
      "      a  b  c  d  e\n",
      "0     1  4  7  6  9\n",
      "1     8  8  8  8  9\n",
      "2     3  6  9  6  9\n",
      "new2  1  1  1  6  9\n",
      "   a  b  c  d  e\n",
      "0  1  4  7  6  9\n",
      "1  8  8  8  8  9\n",
      "2  3  6  9  6  9\n",
      "      a  b  c  d  e\n",
      "0     1  4  7  6  9\n",
      "1     8  8  8  8  9\n",
      "2     3  6  9  6  9\n",
      "new   5  5  5  6  9\n",
      "new2  1  1  1  6  9\n"
     ]
    }
   ],
   "source": [
    "# 删除行数据\n",
    "df2 = df.drop(\"new\", axis=0)\n",
    "df3 = df.drop([\"new\", \"new2\"], axis=0)\n",
    "print(df2)\n",
    "print(df3)\n",
    "print(df)"
   ]
  },
  {
   "cell_type": "code",
   "execution_count": 28,
   "metadata": {},
   "outputs": [
    {
     "name": "stdout",
     "output_type": "stream",
     "text": [
      "      a  b  c  d  e\n",
      "1     8  8  8  8  2\n",
      "new   5  5  5  6  4\n",
      "new2  1  1  1  6  5\n"
     ]
    }
   ],
   "source": [
    "# 指定删除\n",
    "df4 = df.drop(range(0,4,2), axis=0)\n",
    "print(df4)"
   ]
  },
  {
   "cell_type": "code",
   "execution_count": 30,
   "metadata": {},
   "outputs": [
    {
     "name": "stdout",
     "output_type": "stream",
     "text": [
      "      b  c  d  e\n",
      "0     4  7  6  1\n",
      "1     8  8  8  2\n",
      "2     6  9  6  3\n",
      "new   5  5  6  4\n",
      "new2  1  1  6  5\n"
     ]
    }
   ],
   "source": [
    "# 删除列\n",
    "df5 = df.drop(\"a\", axis=1)\n",
    "\n",
    "print(df5)"
   ]
  },
  {
   "cell_type": "code",
   "execution_count": 49,
   "metadata": {},
   "outputs": [
    {
     "data": {
      "image/png": "[encoded data removed]",
      "text/plain": [
       "<Figure size 432x288 with 1 Axes>"
      ]
     },
     "metadata": {
      "needs_background": "light"
     },
     "output_type": "display_data"
    }
   ],
   "source": [
    "import matplotlib.pyplot as plt\n",
    "# 课堂练习\n",
    "data = pd.read_csv(\"./barley2.csv\")\n",
    "\n",
    "# 提取数据\n",
    "# 计算小麦1931、1932年的平均产量\n",
    "# 绘制出对应柱状图\n",
    "flag = [1931, 1932]\n",
    "mean_1931 = data[data[\"Year\"] == flag[0]][\"Yield\"].mean()\n",
    "mean_1932 = data[data[\"Year\"] == flag[1]][\"Yield\"].mean()\n",
    "plt.bar([str(i) for i in flag], [mean_1931, mean_1932])\n",
    "plt.show()"
   ]
  },
  {
   "cell_type": "code",
   "execution_count": 1,
   "metadata": {},
   "outputs": [],
   "source": [
    "import pandas as pd\n",
    "import matplotlib.pyplot as plt\n",
    "\n",
    "data = pd.read_csv(\"./barley2.csv\")\n"
   ]
  },
  {
   "cell_type": "code",
   "execution_count": 16,
   "metadata": {},
   "outputs": [
    {
     "name": "stdout",
     "output_type": "stream",
     "text": [
      "                Site           Variety     Yield  Year\n",
      "0          Crookston           Glabron  38.13333  1931\n",
      "1          Crookston         Manchuria  39.93333  1931\n",
      "2          Crookston           No. 457  45.66667  1931\n",
      "3          Crookston           No. 462  48.56666  1931\n",
      "4          Crookston           No. 475  44.10000  1931\n",
      "5          Crookston          Peatland  41.60000  1931\n",
      "6          Crookston          Svansota  40.46667  1931\n",
      "7          Crookston             Trebi  46.93333  1931\n",
      "8          Crookston            Velvet  41.33333  1931\n",
      "9          Crookston  Wisconsin No. 38  49.86667  1931\n",
      "10            Duluth           Glabron  29.66667  1931\n",
      "11            Duluth         Manchuria  28.96667  1931\n",
      "12            Duluth           No. 457  33.60000  1931\n",
      "13            Duluth           No. 462  28.10000  1931\n",
      "14            Duluth           No. 475  33.06666  1931\n",
      "15            Duluth          Peatland  32.00000  1931\n",
      "16            Duluth          Svansota  25.70000  1931\n",
      "17            Duluth             Trebi  33.93333  1931\n",
      "18            Duluth            Velvet  26.30000  1931\n",
      "19            Duluth  Wisconsin No. 38  31.60000  1931\n",
      "20      Grand Rapids           Glabron  29.13333  1931\n",
      "21      Grand Rapids         Manchuria  32.96667  1931\n",
      "22      Grand Rapids           No. 457  32.16667  1931\n",
      "23      Grand Rapids           No. 462  24.93334  1931\n",
      "24      Grand Rapids           No. 475  19.70000  1931\n",
      "25      Grand Rapids          Peatland  34.70000  1931\n",
      "26      Grand Rapids          Svansota  29.66667  1931\n",
      "27      Grand Rapids             Trebi  29.76667  1931\n",
      "28      Grand Rapids            Velvet  23.03333  1931\n",
      "29      Grand Rapids  Wisconsin No. 38  34.46667  1931\n",
      "..               ...               ...       ...   ...\n",
      "90            Morris           Glabron  35.13333  1932\n",
      "91            Morris         Manchuria  34.36666  1932\n",
      "92            Morris           No. 457  43.53334  1932\n",
      "93            Morris           No. 462  47.00000  1932\n",
      "94            Morris           No. 475  44.23333  1932\n",
      "95            Morris          Peatland  43.20000  1932\n",
      "96            Morris          Svansota  35.03333  1932\n",
      "97            Morris             Trebi  46.63333  1932\n",
      "98            Morris            Velvet  38.83333  1932\n",
      "99            Morris  Wisconsin No. 38  47.16667  1932\n",
      "100  University Farm           Glabron  36.80000  1932\n",
      "101  University Farm         Manchuria  26.90000  1932\n",
      "102  University Farm           No. 457  26.43334  1932\n",
      "103  University Farm           No. 462  25.56667  1932\n",
      "104  University Farm           No. 475  30.00000  1932\n",
      "105  University Farm          Peatland  28.06667  1932\n",
      "106  University Farm          Svansota  27.43334  1932\n",
      "107  University Farm             Trebi  29.06667  1932\n",
      "108  University Farm            Velvet  26.80000  1932\n",
      "109  University Farm  Wisconsin No. 38  38.00000  1932\n",
      "110           Waseca           Glabron  37.73333  1932\n",
      "111           Waseca         Manchuria  33.46667  1932\n",
      "112           Waseca           No. 457  42.20000  1932\n",
      "113           Waseca           No. 462  44.70000  1932\n",
      "114           Waseca           No. 475  41.26667  1932\n",
      "115           Waseca          Peatland  36.03333  1932\n",
      "116           Waseca          Svansota  38.50000  1932\n",
      "117           Waseca             Trebi  49.23330  1932\n",
      "118           Waseca            Velvet  37.40000  1932\n",
      "119           Waseca  Wisconsin No. 38  58.16667  1932\n",
      "\n",
      "[120 rows x 4 columns]\n"
     ]
    }
   ],
   "source": [
    "#rint(data)\n",
    "# 行增\n",
    "data.loc[120] = 6\n",
    "# 行减\n",
    "data.drop(120, axis=0, inplace=True)\n",
    "# 列增\n",
    "data[\"new_column\"] = 1\n",
    "# 列减\n",
    "data.drop([\"new_column\"], axis=1, inplace=True)\n",
    "print(data)"
   ]
  },
  {
   "cell_type": "code",
   "execution_count": 19,
   "metadata": {},
   "outputs": [
    {
     "data": {
      "image/png": "[encoded data removed]",
      "text/plain": [
       "<Figure size 432x288 with 1 Axes>"
      ]
     },
     "metadata": {
      "needs_background": "light"
     },
     "output_type": "display_data"
    },
    {
     "name": "stdout",
     "output_type": "stream",
     "text": [
      "[748.39997, 559.9333400000002, 498.63334000000003, 708.00001, 653.33335, 962.16663]\n"
     ]
    }
   ],
   "source": [
    "# 每个地区的总产量\n",
    "every_site_all_yield = []\n",
    "sites = pd.unique(data[\"Site\"])\n",
    "\n",
    "for site in sites:\n",
    "    all_yield = data[data[\"Site\"] == site][\"Yield\"].sum()\n",
    "    every_site_all_yield.append(all_yield)\n",
    "\n",
    "plt.bar(sites, every_site_all_yield)\n",
    "plt.xticks(rotation=45)\n",
    "plt.show()\n",
    "print(every_site_all_yield)"
   ]
  },
  {
   "cell_type": "code",
   "execution_count": 30,
   "metadata": {},
   "outputs": [
    {
     "data": {
      "image/png": "[encoded data removed]",
      "text/plain": [
       "<Figure size 432x288 with 1 Axes>"
      ]
     },
     "metadata": {
      "needs_background": "light"
     },
     "output_type": "display_data"
    },
    {
     "data": {
      "image/png": "[encoded data removed]",
      "text/plain": [
       "<Figure size 432x288 with 1 Axes>"
      ]
     },
     "metadata": {
      "needs_background": "light"
     },
     "output_type": "display_data"
    }
   ],
   "source": [
    "# 每个地区的每年产量\n",
    "every_site_all_yield_1931 = []\n",
    "every_site_all_yield_1932 = []\n",
    "sites = pd.unique(data[\"Site\"])\n",
    "\n",
    "\n",
    "\n",
    "for site in sites:\n",
    "    site_data = data[data[\"Site\"] == site]\n",
    "    all_yield_1931 = site_data[site_data[\"Year\"] == 1931][\"Yield\"].sum()\n",
    "    all_yield_1932 = site_data[site_data[\"Year\"] == 1932][\"Yield\"].sum()\n",
    "    every_site_all_yield_1931.append(all_yield_1931)\n",
    "    every_site_all_yield_1932.append(all_yield_1932)\n",
    "\n",
    "plt.bar(sites, every_site_all_yield_1931)\n",
    "plt.xticks(rotation=45)\n",
    "plt.show()\n",
    "plt.bar(sites, every_site_all_yield_1932)\n",
    "plt.xticks(rotation=45)\n",
    "plt.show()\n"
   ]
  },
  {
   "cell_type": "code",
   "execution_count": null,
   "metadata": {},
   "outputs": [],
   "source": []
  }
 ],
 "metadata": {
  "kernelspec": {
   "display_name": "Python 3",
   "language": "python",
   "name": "python3"
  },
  "language_info": {
   "codemirror_mode": {
    "name": "ipython",
    "version": 3
   },
   "file_extension": ".py",
   "mimetype": "text/x-python",
   "name": "python",
   "nbconvert_exporter": "python",
   "pygments_lexer": "ipython3",
   "version": "3.7.1"
  }
 },
 "nbformat": 4,
 "nbformat_minor": 2
}

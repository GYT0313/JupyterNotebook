{
 "cells": [
  {
   "cell_type": "code",
   "execution_count": 1,
   "metadata": {},
   "outputs": [],
   "source": [
    "import pandas as pd\n",
    "import numpy as np"
   ]
  },
  {
   "cell_type": "code",
   "execution_count": 3,
   "metadata": {},
   "outputs": [
    {
     "name": "stdout",
     "output_type": "stream",
     "text": [
      "   gender_女  gender_男\n",
      "0         0         1\n",
      "1         1         0\n"
     ]
    }
   ],
   "source": [
    "df1 = pd.DataFrame({\"gender\":[\"男\", \"女\"]})\n",
    "print(pd.get_dummies(df1))"
   ]
  },
  {
   "cell_type": "code",
   "execution_count": 5,
   "metadata": {},
   "outputs": [
    {
     "name": "stdout",
     "output_type": "stream",
     "text": [
      "   pro_大数据  pro_计算机  gender_女  gender_男\n",
      "0        0        1         0         1\n",
      "1        1        0         1         0\n"
     ]
    }
   ],
   "source": [
    "df2 = pd.DataFrame({\"pro\":[\"计算机\",\"大数据\"], \"gender\":[\"男\", \"女\"]})\n",
    "print(pd.get_dummies(df2))"
   ]
  },
  {
   "cell_type": "code",
   "execution_count": 11,
   "metadata": {},
   "outputs": [
    {
     "name": "stdout",
     "output_type": "stream",
     "text": [
      "   pro_大数据  pro_计算机  gender_女  gender_男\n",
      "0        0        1         1         0\n",
      "1        0        1         0         1\n",
      "2        1        0         1         0\n"
     ]
    }
   ],
   "source": [
    "df3 = pd.DataFrame({\"pro\":[\"计算机\",\"计算机\",\"大数据\"], \"gender\":[\"女\",\"男\", \"女\"]})\n",
    "print(pd.get_dummies(df3))"
   ]
  },
  {
   "cell_type": "code",
   "execution_count": 12,
   "metadata": {},
   "outputs": [
    {
     "name": "stdout",
     "output_type": "stream",
     "text": [
      "0    1\n",
      "1    1\n",
      "2    2\n",
      "Name: pro, dtype: int64\n",
      "   pro gender\n",
      "0    1      女\n",
      "1    1      男\n",
      "2    2      女\n"
     ]
    }
   ],
   "source": [
    "d1 = {\"计算机\":1, \"大数据\":2}\n",
    "t1 = df3[\"pro\"].map(d1)\n",
    "print(t1)\n",
    "\n",
    "# 替换df3\n",
    "df3[\"pro\"] = t1\n",
    "print(df3)"
   ]
  },
  {
   "cell_type": "code",
   "execution_count": 19,
   "metadata": {},
   "outputs": [
    {
     "name": "stdout",
     "output_type": "stream",
     "text": [
      "[60, 80)     52\n",
      "[0, 60)      18\n",
      "[80, 100)    15\n",
      "Name: Python, dtype: int64\n",
      "(59.5, 70.0]      37\n",
      "(80.5, 91.0]      15\n",
      "(70.0, 80.5]      15\n",
      "(38.5, 49.0]       9\n",
      "(49.0, 59.5]       8\n",
      "(27.937, 38.5]     1\n",
      "Name: Python, dtype: int64\n"
     ]
    }
   ],
   "source": [
    "# 离散化连续型数据\n",
    "# 等宽法\n",
    "cpe_score = pd.read_csv(\"./score/cpe_score.csv\")\n",
    "\n",
    "p_score = cpe_score[\"Python\"]\n",
    "\n",
    "print(pd.cut(p_score, [0, 60, 80, 100], right=False).value_counts())\n",
    "\n",
    "print(pd.cut(p_score, 6).value_counts())\n"
   ]
  },
  {
   "cell_type": "code",
   "execution_count": 23,
   "metadata": {},
   "outputs": [
    {
     "name": "stdout",
     "output_type": "stream",
     "text": [
      "0    0.673469\n",
      "1    0.469388\n",
      "2    0.367347\n",
      "3    0.428571\n",
      "4    0.673469\n",
      "5    0.428571\n",
      "6    0.000000\n",
      "7    0.489796\n",
      "8    0.346939\n",
      "9    0.877551\n",
      "Name: C_Language, dtype: float64\n",
      "0    0.487376\n",
      "1   -0.452011\n",
      "2   -0.921704\n",
      "3   -0.639888\n",
      "4    0.487376\n",
      "5   -0.639888\n",
      "6   -2.612599\n",
      "7   -0.358072\n",
      "8   -1.015642\n",
      "9    1.426762\n",
      "Name: C_Language, dtype: float64\n",
      "0    0.80\n",
      "1    0.70\n",
      "2    0.65\n",
      "3    0.68\n",
      "4    0.80\n",
      "5    0.68\n",
      "6    0.47\n",
      "7    0.71\n",
      "8    0.64\n",
      "9    0.90\n",
      "Name: C_Language, dtype: float64\n"
     ]
    }
   ],
   "source": [
    "# 实训3\n",
    "# 离值标准化\n",
    "c_score = cpe_score[\"C_Language\"]\n",
    "def minMaxScale(data):\n",
    "    data = (data-data.min()) / (data.max() - data.min())\n",
    "    return data\n",
    "new_c = minMaxScale(c_score)\n",
    "print(new_c.head(10))\n",
    "\n",
    "# 标准差标准化\n",
    "def standarScale(data):\n",
    "    data = (data - data.mean()) / data.std()\n",
    "    return data\n",
    "new_c2 = standarScale(c_score)\n",
    "print(new_c2.head(10))\n",
    "\n",
    "# 小数定标标准化\n",
    "def decimalScaler(data):\n",
    "    data = data/10**np.ceil(np.log10(data.abs().max()))\n",
    "    return data\n",
    "new_c3 = decimalScaler(c_score)\n",
    "print(new_c3.head(10))"
   ]
  },
  {
   "cell_type": "code",
   "execution_count": null,
   "metadata": {},
   "outputs": [],
   "source": []
  }
 ],
 "metadata": {
  "kernelspec": {
   "display_name": "Python 3",
   "language": "python",
   "name": "python3"
  },
  "language_info": {
   "codemirror_mode": {
    "name": "ipython",
    "version": 3
   },
   "file_extension": ".py",
   "mimetype": "text/x-python",
   "name": "python",
   "nbconvert_exporter": "python",
   "pygments_lexer": "ipython3",
   "version": "3.7.1"
  }
 },
 "nbformat": 4,
 "nbformat_minor": 2
}

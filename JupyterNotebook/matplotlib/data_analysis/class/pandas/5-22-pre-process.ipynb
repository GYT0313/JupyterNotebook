{
 "cells": [
  {
   "cell_type": "code",
   "execution_count": 6,
   "metadata": {},
   "outputs": [],
   "source": [
    "import pandas as pd\n",
    "import numpy as np\n"
   ]
  },
  {
   "cell_type": "code",
   "execution_count": 7,
   "metadata": {},
   "outputs": [],
   "source": [
    "# load data\n",
    "c_score = pd.read_csv(\"./score/C_Language.csv\")\n",
    "e_score = pd.read_csv(\"./score/entity.csv\")\n",
    "p_score = pd.read_csv(\"./score/Python.csv\")\n",
    "# 88 rows\n",
    "#c_score"
   ]
  },
  {
   "cell_type": "code",
   "execution_count": 8,
   "metadata": {},
   "outputs": [],
   "source": [
    "# drop duplicates\n",
    "c_score.drop_duplicates(keep=\"first\", inplace=True)\n",
    "e_score.drop_duplicates(keep=\"first\", inplace=True)\n",
    "p_score.drop_duplicates(keep=\"first\", inplace=True)\n",
    "# 85 rows\n",
    "#c_score\n",
    "\n",
    "# set index by number\n",
    "c_score.set_index(\"Number\", inplace=True)\n",
    "e_score.set_index(\"Number\", inplace=True)\n",
    "p_score.set_index(\"Number\", inplace=True)\n",
    "\n",
    "# concat c_score and p_score\n",
    "cp_score = pd.concat([c_score, p_score], axis=1, join=\"outer\")\n",
    "\n",
    "# fill blank data by e_score\n",
    "cpe_score = cp_score.combine_first(e_score)\n",
    "\n",
    "# save to csv\n",
    "cpe_score.reset_index(inplace=True)\n",
    "#cpe_score.to_csv(\"./score/cpe_score.csv\")\n"
   ]
  },
  {
   "cell_type": "code",
   "execution_count": 53,
   "metadata": {},
   "outputs": [
    {
     "name": "stdout",
     "output_type": "stream",
     "text": [
      "             C_Language\n",
      "Number                 \n",
      "16310920101        80.0\n",
      "16310920102        70.0\n",
      "16310920103        65.0\n",
      "16310920104        68.0\n",
      "16310920105        80.0\n",
      "16310920106        68.0\n",
      "16310920107        47.0\n",
      "16310920108        71.0\n",
      "16310920109        64.0\n",
      "16310920110        90.0\n",
      "16310920112        82.0\n",
      "16310920113        89.0\n",
      "16310920114        79.0\n",
      "16310920115        80.0\n",
      "16310920116        85.0\n",
      "16310920117        72.0\n",
      "16310920118        88.0\n",
      "16310920119        92.0\n",
      "16310920120        88.0\n",
      "16310920121        70.0\n",
      "16310920122        68.0\n",
      "16310920123        82.0\n",
      "16310920124        77.0\n",
      "16310920125        54.0\n",
      "16310920126        69.0\n",
      "16310920127        68.0\n",
      "16310920128        72.0\n",
      "16310920129        68.0\n",
      "16310920131        88.0\n",
      "16310920132        53.0\n",
      "...                 ...\n",
      "16310920211        68.0\n",
      "16310920212        82.0\n",
      "16310920213        92.0\n",
      "16310920214        86.0\n",
      "16310920215        82.0\n",
      "16310920216        75.0\n",
      "16310920217        62.0\n",
      "16310920218        68.0\n",
      "16310920219        82.0\n",
      "16310920220        67.0\n",
      "16310920221        75.0\n",
      "16310920222        68.0\n",
      "16310920223        61.0\n",
      "16310920224        73.0\n",
      "16310920225        84.0\n",
      "16310920226        70.0\n",
      "16310920227        68.0\n",
      "16310920228        68.0\n",
      "16310920230        55.0\n",
      "16310920231        71.0\n",
      "16310920232        84.0\n",
      "16310920233        76.0\n",
      "16310920235        70.0\n",
      "16310920236        62.0\n",
      "16310920237        77.0\n",
      "16310920238        75.0\n",
      "16310920241        67.0\n",
      "16310920242        74.0\n",
      "16310920243        76.0\n",
      "16310920244        90.0\n",
      "\n",
      "[80 rows x 1 columns]\n",
      "             C_Language\n",
      "Number                 \n",
      "16310920101        80.0\n",
      "16310920102        70.0\n",
      "16310920103        65.0\n",
      "16310920104        68.0\n",
      "16310920105        80.0\n",
      "16310920106        68.0\n",
      "16310920107        47.0\n",
      "16310920108        71.0\n",
      "16310920109        64.0\n",
      "16310920110        90.0\n",
      "16310920111       100.0\n",
      "16310920112        82.0\n",
      "16310920113        89.0\n",
      "16310920114        79.0\n",
      "16310920115        80.0\n",
      "16310920116        85.0\n",
      "16310920117        72.0\n",
      "16310920118        88.0\n",
      "16310920119        92.0\n",
      "16310920120        88.0\n",
      "16310920121        70.0\n",
      "16310920122        68.0\n",
      "16310920123        82.0\n",
      "16310920124        77.0\n",
      "16310920125        54.0\n",
      "16310920126        69.0\n",
      "16310920127        68.0\n",
      "16310920128        72.0\n",
      "16310920129        68.0\n",
      "16310920131        88.0\n",
      "...                 ...\n",
      "16310920214        86.0\n",
      "16310920215        82.0\n",
      "16310920216        75.0\n",
      "16310920217        62.0\n",
      "16310920218        68.0\n",
      "16310920219        82.0\n",
      "16310920220        67.0\n",
      "16310920221        75.0\n",
      "16310920222        68.0\n",
      "16310920223        61.0\n",
      "16310920224        73.0\n",
      "16310920225        84.0\n",
      "16310920226        70.0\n",
      "16310920227        68.0\n",
      "16310920228        68.0\n",
      "16310920229       100.0\n",
      "16310920230        55.0\n",
      "16310920231        71.0\n",
      "16310920232        84.0\n",
      "16310920233        76.0\n",
      "16310920235        70.0\n",
      "16310920236        62.0\n",
      "16310920237        77.0\n",
      "16310920238        75.0\n",
      "16310920239       100.0\n",
      "16310920240       100.0\n",
      "16310920241        67.0\n",
      "16310920242        74.0\n",
      "16310920243        76.0\n",
      "16310920244        90.0\n",
      "\n",
      "[85 rows x 1 columns]\n"
     ]
    }
   ],
   "source": [
    "# 缺失值处理\n",
    "# 1. 删除缺失值\n",
    "#print(c_score)\n",
    "print(c_score.dropna(axis=0, how='any'))\n",
    "\n",
    "# 2. 插入缺失值\n",
    "print(c_score.fillna(value=100))\n"
   ]
  },
  {
   "cell_type": "code",
   "execution_count": 72,
   "metadata": {},
   "outputs": [
    {
     "name": "stdout",
     "output_type": "stream",
     "text": [
      "[80. 70. 65. 68. 80. 68. 47. 71. 64. 90. nan 82. 89. 79. 80. 85. 72. 88.\n",
      " 92. 88. 70. 68. 82. 77. 54. 69. 68. 72. 68. 88. 53. 68. 47. 71. 93. 78.\n",
      " 95. 90. 96. 76. 70. 72. 74. 76. 69. 71. nan 60. 75. 68. 90. 88. 68. 82.\n",
      " 92. 86. 82. 75. 62. 68. 82. 67. 75. 68. 61. 73. 84. 70. 68. 68. nan 55.\n",
      " 71. 84. 76. 70. 62. 77. 75. nan nan 67. 74. 76. 90.]\n",
      "80.0\n"
     ]
    }
   ],
   "source": [
    "# 插值\n",
    "from scipy.interpolate import interp1d\n",
    "\n",
    "x = np.array(range(1, len(c_score)+1))\n",
    "y = np.array(c_score[\"C_Language\"])\n",
    "\n",
    "print(y)\n",
    "c_score_interpld = interp1d(x, y, kind=\"linear\")\n",
    "\n",
    "print(c_score_interpld(1))"
   ]
  },
  {
   "cell_type": "code",
   "execution_count": 77,
   "metadata": {},
   "outputs": [
    {
     "name": "stdout",
     "output_type": "stream",
     "text": [
      "             C_Language\n",
      "Number                 \n",
      "16310920111         NaN\n",
      "16310920205         NaN\n",
      "16310920229         NaN\n",
      "16310920239         NaN\n",
      "16310920240         NaN\n"
     ]
    }
   ],
   "source": [
    "# 查找缺失值\n",
    "print(c_score[c_score.isnull().values == True])"
   ]
  },
  {
   "cell_type": "code",
   "execution_count": 38,
   "metadata": {},
   "outputs": [
    {
     "name": "stdout",
     "output_type": "stream",
     "text": [
      "0    152.0\n",
      "1    125.0\n",
      "2    122.0\n",
      "3    128.0\n",
      "4    152.0\n",
      "5    128.0\n",
      "6     86.0\n",
      "7    120.0\n",
      "8    120.0\n",
      "9    172.0\n",
      "dtype: float64\n",
      "       C_Language     Python\n",
      "count   43.000000  43.000000\n",
      "mean    75.511628  66.813953\n",
      "std     12.250116  13.249000\n",
      "min     47.000000  39.000000\n",
      "25%     68.000000  60.000000\n",
      "50%     74.000000  66.000000\n",
      "75%     86.500000  77.000000\n",
      "max     96.000000  91.000000\n"
     ]
    }
   ],
   "source": [
    "# 分组统计\n",
    "# 班级\n",
    "new_score = cpe_score\n",
    "new_score['class'] = [str(i)[-3:-2] for i in cpe_score[\"Number\"].values]\n",
    "\n",
    "# 第二种\n",
    "#cpe_score[\"Number\"].transform(lambda x: str(x)[-3])\n",
    "\n",
    "# 按班级分析\n",
    "class1 = new_score[new_score[\"class\"] == '1']\n",
    "# 求和\n",
    "print(class1.iloc[:, 1:3].sum(axis=1).head(10))\n",
    "# 描述\n",
    "print(class1.iloc[:, 1:3].describe())"
   ]
  },
  {
   "cell_type": "code",
   "execution_count": null,
   "metadata": {},
   "outputs": [],
   "source": []
  },
  {
   "cell_type": "code",
   "execution_count": null,
   "metadata": {},
   "outputs": [],
   "source": []
  }
 ],
 "metadata": {
  "kernelspec": {
   "display_name": "Python 3",
   "language": "python",
   "name": "python3"
  },
  "language_info": {
   "codemirror_mode": {
    "name": "ipython",
    "version": 3
   },
   "file_extension": ".py",
   "mimetype": "text/x-python",
   "name": "python",
   "nbconvert_exporter": "python",
   "pygments_lexer": "ipython3",
   "version": "3.7.1"
  }
 },
 "nbformat": 4,
 "nbformat_minor": 2
}

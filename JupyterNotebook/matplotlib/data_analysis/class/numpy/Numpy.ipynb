{
 "cells": [
  {
   "cell_type": "code",
   "execution_count": 1,
   "metadata": {},
   "outputs": [
    {
     "name": "stdout",
     "output_type": "stream",
     "text": [
      "[[1. 1. 1. 1. 1.]\n",
      " [1. 0. 0. 0. 1.]\n",
      " [1. 0. 0. 0. 1.]\n",
      " [1. 0. 0. 0. 1.]\n",
      " [1. 1. 1. 1. 1.]]\n",
      "[[1. 1. 1. 1. 1.]\n",
      " [1. 0. 0. 0. 1.]\n",
      " [1. 0. 0. 0. 1.]\n",
      " [1. 0. 0. 0. 1.]\n",
      " [1. 1. 1. 1. 1.]]\n",
      "========================================\n",
      "[[ 0.52752794 -0.41345575 -1.79432216  1.00205312  2.10649315]\n",
      " [-0.16739944  0.57918384  0.29259698  1.55991642 -2.20591369]\n",
      " [ 0.27048907  0.92423257  0.80092251  0.67967652 -0.48849491]\n",
      " [ 0.14251751  1.26493833 -0.50178317  1.82530828 -1.56868941]]\n"
     ]
    },
    {
     "data": {
      "text/plain": [
       "array([0.52752794, 0.57918384, 0.80092251, 1.82530828])"
      ]
     },
     "execution_count": 1,
     "metadata": {},
     "output_type": "execute_result"
    }
   ],
   "source": [
    "# 2019-4-1 课堂练习\n",
    "# 1. \n",
    "import numpy as np\n",
    "array = np.ones((5,5))\n",
    "array[1:4, 1:4] = 0\n",
    "print(array)\n",
    "array3 = np.zeros((5, 5))\n",
    "array3[0:5, [0, 4]] = 1\n",
    "array3[[0, 4], 0:5] = 1\n",
    "print(array3)\n",
    "print('='*40)\n",
    "# 2.\n",
    "array2 = np.random.randn(4, 5)\n",
    "print(array2)\n",
    "array2[range(4), range(4)]\n"
   ]
  },
  {
   "cell_type": "code",
   "execution_count": 30,
   "metadata": {},
   "outputs": [
    {
     "name": "stdout",
     "output_type": "stream",
     "text": [
      "[ 6  8 10 12 14]\n",
      "[-6 -6 -6 -6 -6]\n",
      "[ 0  7 16 27 40]\n",
      "[0.         0.14285714 0.25       0.33333333 0.4       ]\n",
      "[0 1 2 3 4]\n",
      "[      0       1     256   19683 1048576]\n"
     ]
    }
   ],
   "source": [
    "# 书上P50 练习\n",
    "# 3.3\n",
    "array1 = np.arange(5)\n",
    "array2 = np.arange(6, 11)\n",
    "print(array1 + array2)\n",
    "print(array1 - array2)\n",
    "print(array1 * array2)\n",
    "print(array1 / array2)\n",
    "print(array1 % array2)\n",
    "print(array1 ** array2)"
   ]
  },
  {
   "cell_type": "code",
   "execution_count": 2,
   "metadata": {},
   "outputs": [
    {
     "name": "stdout",
     "output_type": "stream",
     "text": [
      "[[1. 0. 1. 0. 1. 0. 1. 0.]\n",
      " [0. 1. 0. 1. 0. 1. 0. 1.]\n",
      " [1. 0. 1. 0. 1. 0. 1. 0.]\n",
      " [0. 1. 0. 1. 0. 1. 0. 1.]\n",
      " [1. 0. 1. 0. 1. 0. 1. 0.]\n",
      " [0. 1. 0. 1. 0. 1. 0. 1.]\n",
      " [1. 0. 1. 0. 1. 0. 1. 0.]\n",
      " [0. 1. 0. 1. 0. 1. 0. 1.]]\n"
     ]
    }
   ],
   "source": [
    "# 2 国际象棋棋盘\n",
    "checkerboard = np.zeros((8, 8))\n",
    "checkerboard[0:8:2, 0:8:2] = 1\n",
    "checkerboard[1:8:2, 1:8:2] = 1\n",
    "print(checkerboard)"
   ]
  },
  {
   "cell_type": "code",
   "execution_count": 46,
   "metadata": {},
   "outputs": [
    {
     "name": "stdout",
     "output_type": "stream",
     "text": [
      "[[0.58881767 2.12125974]\n",
      " [0.39700184 0.05563642]]\n",
      "[[-0.22029165 -0.86960923]\n",
      " [ 0.03089457 -1.49606521]]\n",
      "[[-0.12971162 -1.84466704]\n",
      " [ 0.0122652  -0.08323571]]\n"
     ]
    }
   ],
   "source": [
    "# 操作题\n",
    "a1 = np.random.randn(2, 2)\n",
    "a2 = np.random.randn(2, 2)\n",
    "print(a1)\n",
    "print(a2)\n",
    "print(a1 * a2)"
   ]
  },
  {
   "cell_type": "code",
   "execution_count": 36,
   "metadata": {},
   "outputs": [
    {
     "name": "stdout",
     "output_type": "stream",
     "text": [
      "[[array([[1., 0., 1., 0.],\n",
      "       [0., 1., 0., 1.],\n",
      "       [1., 0., 1., 0.],\n",
      "       [0., 1., 0., 1.]]), array([[1., 0., 1., 0.],\n",
      "       [0., 1., 0., 1.],\n",
      "       [1., 0., 1., 0.],\n",
      "       [0., 1., 0., 1.]])], [array([[1., 0., 1., 0.],\n",
      "       [0., 1., 0., 1.],\n",
      "       [1., 0., 1., 0.],\n",
      "       [0., 1., 0., 1.]]), array([[1., 0., 1., 0.],\n",
      "       [0., 1., 0., 1.],\n",
      "       [1., 0., 1., 0.],\n",
      "       [0., 1., 0., 1.]])]]\n"
     ]
    }
   ],
   "source": [
    "# 将棋盘划分为2x2\n",
    "# 横向分割\n",
    "h1 = [x for x in np.hsplit(checkerboard, 2)]\n",
    "# 纵向分割\n",
    "v = [np.vsplit(h, 2) for h in h1]\n",
    "print(v)\n"
   ]
  },
  {
   "cell_type": "code",
   "execution_count": 49,
   "metadata": {},
   "outputs": [
    {
     "data": {
      "text/plain": [
       "[]"
      ]
     },
     "execution_count": 49,
     "metadata": {},
     "output_type": "execute_result"
    }
   ],
   "source": []
  },
  {
   "cell_type": "code",
   "execution_count": null,
   "metadata": {},
   "outputs": [],
   "source": []
  }
 ],
 "metadata": {
  "kernelspec": {
   "display_name": "Python 3",
   "language": "python",
   "name": "python3"
  },
  "language_info": {
   "codemirror_mode": {
    "name": "ipython",
    "version": 3
   },
   "file_extension": ".py",
   "mimetype": "text/x-python",
   "name": "python",
   "nbconvert_exporter": "python",
   "pygments_lexer": "ipython3",
   "version": "3.7.1"
  }
 },
 "nbformat": 4,
 "nbformat_minor": 2
}

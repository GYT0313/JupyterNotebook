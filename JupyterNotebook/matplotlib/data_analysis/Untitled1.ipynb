{
 "cells": [
  {
   "cell_type": "code",
   "execution_count": 1,
   "metadata": {},
   "outputs": [
    {
     "ename": "ModuleNotFoundError",
     "evalue": "No module named 'pygame'",
     "output_type": "error",
     "traceback": [
      "\u001b[1;31m---------------------------------------------------------------------------\u001b[0m",
      "\u001b[1;31mModuleNotFoundError\u001b[0m                       Traceback (most recent call last)",
      "\u001b[1;32m<ipython-input-1-671b35b41eba>\u001b[0m in \u001b[0;36m<module>\u001b[1;34m\u001b[0m\n\u001b[1;32m----> 1\u001b[1;33m \u001b[1;32mimport\u001b[0m \u001b[0mpygame\u001b[0m\u001b[1;33m\u001b[0m\u001b[1;33m\u001b[0m\u001b[0m\n\u001b[0m",
      "\u001b[1;31mModuleNotFoundError\u001b[0m: No module named 'pygame'"
     ]
    }
   ],
   "source": [
    "import pygame"
   ]
  },
  {
   "cell_type": "code",
   "execution_count": 2,
   "metadata": {},
   "outputs": [
    {
     "data": {
      "text/plain": [
       "<Figure size 640x480 with 1 Axes>"
      ]
     },
     "metadata": {},
     "output_type": "display_data"
    },
    {
     "data": {
      "text/plain": [
       "<Figure size 640x480 with 2 Axes>"
      ]
     },
     "metadata": {},
     "output_type": "display_data"
    },
    {
     "data": {
      "text/plain": [
       "<Figure size 640x480 with 1 Axes>"
      ]
     },
     "metadata": {},
     "output_type": "display_data"
    },
    {
     "data": {
      "text/plain": [
       "<Figure size 640x480 with 1 Axes>"
      ]
     },
     "metadata": {},
     "output_type": "display_data"
    },
    {
     "data": {
      "text/plain": [
       "<Figure size 640x480 with 1 Axes>"
      ]
     },
     "metadata": {},
     "output_type": "display_data"
    },
    {
     "data": {
      "text/plain": [
       "<Figure size 640x480 with 1 Axes>"
      ]
     },
     "metadata": {},
     "output_type": "display_data"
    }
   ],
   "source": [
    "# -*- coding: utf-8 -*-\n",
    "\n",
    "###############################################################################\n",
    "#######################            正文代码             #######################\n",
    "###############################################################################\n",
    "\n",
    "# 代码 3-1\n",
    "import numpy as np\n",
    "import matplotlib.pyplot as plt\n",
    "## %matplotlib inline表示在行中显示图片，在命令行运行报错\n",
    "data = np.arange(0,1.1,0.01)\n",
    "plt.title('lines') ## 添加标题\n",
    "plt.xlabel('x')## 添加x轴的名称\n",
    "plt.ylabel('y')## 添加y轴的名称\n",
    "plt.xlim((0,1))## 确定x轴范围\n",
    "plt.ylim((0,1))## 确定y轴范围\n",
    "plt.xticks([0,0.2,0.4,0.6,0.8,1])## 规定x轴刻度\n",
    "plt.yticks([0,0.2,0.4,0.6,0.8,1])## 确定y轴刻度\n",
    "plt.plot(data,data**2)## 添加y=x^2曲线\n",
    "plt.plot(data,data**4)## 添加y=x^4曲线\n",
    "plt.legend(['y=x^2','y=x^4'])\n",
    "plt.savefig('../tmp/y=x^2.png')\n",
    "plt.show()\n",
    "\n",
    "\n",
    "# 代码 3-2\n",
    "rad = np.arange(0,np.pi*2,0.01)\n",
    "##第一幅子图\n",
    "p1 = plt.figure(figsize=(8,6),dpi=80)## 确定画布大小\n",
    "ax1 = p1.add_subplot(2,1,1)## 创建一个两行1列的子图，并开始绘制第一幅\n",
    "plt.title('lines')## 添加标题\n",
    "plt.xlabel('x')## 添加x轴的名称\n",
    "plt.ylabel('y')## 添加y轴的名称\n",
    "plt.xlim((0,1))## 确定x轴范围\n",
    "plt.ylim((0,1))## 确定y轴范围\n",
    "plt.xticks([0,0.2,0.4,0.6,0.8,1])## 规定x轴刻度\n",
    "plt.yticks([0,0.2,0.4,0.6,0.8,1])## 确定y轴刻度\n",
    "plt.plot(rad,rad**2)## 添加y=x^2曲线\n",
    "plt.plot(rad,rad**4)## 添加y=x^4曲线\n",
    "plt.legend(['y=x^2','y=x^4'])\n",
    "\n",
    "##第二幅子图\n",
    "ax2 = p1.add_subplot(2,1,2)## 创开始绘制第2幅\n",
    "plt.title('sin/cos') ## 添加标题\n",
    "plt.xlabel('rad')## 添加x轴的名称\n",
    "plt.ylabel('value')## 添加y轴的名称\n",
    "plt.xlim((0,np.pi*2))## 确定x轴范围\n",
    "plt.ylim((-1,1))## 确定y轴范围\n",
    "plt.xticks([0,np.pi/2,np.pi,np.pi*1.5,np.pi*2])## 规定x轴刻度\n",
    "plt.yticks([-1,-0.5,0,0.5,1])## 确定y轴刻度\n",
    "plt.plot(rad,np.sin(rad))## 添加sin曲线\n",
    "plt.plot(rad,np.cos(rad))## 添加cos曲线\n",
    "plt.legend(['sin','cos'])\n",
    "plt.savefig('../tmp/sincos.png')\n",
    "plt.show()\n",
    "\n",
    "\n",
    "# 代码 3-3\n",
    "## 原图\n",
    "x = np.linspace(0, 4*np.pi)## 生成x轴数据\n",
    "y = np.sin(x)## 生成y轴数据\n",
    "plt.plot(x,y,label=\"$sin(x)$\")## 绘制sin曲线图\n",
    "plt.title('sin')\n",
    "plt.savefig('../tmp/默认sin曲线.png')\n",
    "plt.show()\n",
    "\n",
    "## 修改rc参数后的图\n",
    "plt.rcParams['lines.linestyle'] = '-.'\n",
    "plt.rcParams['lines.linewidth'] = 3\n",
    "plt.plot(x,y,label=\"$sin(x)$\")## 绘制三角函数\n",
    "plt.title('sin')\n",
    "plt.savefig('../tmp/修改rc参数后sin曲线.png')\n",
    "plt.show()\n",
    "\n",
    "\n",
    "\n",
    "# 代码 3-4\n",
    "## 无法显示中文标题\n",
    "plt.plot(x,y,label=\"$sin(x)$\")## 绘制三角函数\n",
    "plt.title('sin曲线')\n",
    "plt.savefig('../tmp/无法显示中文标题sin曲线.png')\n",
    "plt.show()\n",
    "\n",
    "\n",
    "##设置rc参数显示中文标题\n",
    "## 设置字体为SimHei显示中文\n",
    "plt.rcParams['font.sans-serif'] = 'SimHei'\n",
    "plt.rcParams['axes.unicode_minus'] = False ## 设置正常显示符号\n",
    "plt.plot(x,y,label=\"$sin(x)$\")## 绘制三角函数\n",
    "plt.title('sin曲线')\n",
    "plt.savefig('../tmp/显示中文标题sin曲线.png')\n",
    "plt.show()\n",
    "\n",
    "\n",
    "\n"
   ]
  },
  {
   "cell_type": "code",
   "execution_count": null,
   "metadata": {},
   "outputs": [],
   "source": []
  }
 ],
 "metadata": {
  "kernelspec": {
   "display_name": "Python 3",
   "language": "python",
   "name": "python3"
  },
  "language_info": {
   "codemirror_mode": {
    "name": "ipython",
    "version": 3
   },
   "file_extension": ".py",
   "mimetype": "text/x-python",
   "name": "python",
   "nbconvert_exporter": "python",
   "pygments_lexer": "ipython3",
   "version": "3.7.1"
  }
 },
 "nbformat": 4,
 "nbformat_minor": 2
}

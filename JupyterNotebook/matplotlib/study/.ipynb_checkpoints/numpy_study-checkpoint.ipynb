{
 "cells": [
  {
   "cell_type": "code",
   "execution_count": 6,
   "metadata": {
    "ExecuteTime": {
     "end_time": "2019-03-10T02:46:56.543988Z",
     "start_time": "2019-03-10T02:46:56.537070Z"
    }
   },
   "outputs": [
    {
     "name": "stdout",
     "output_type": "stream",
     "text": [
      "一维数组： [1 2 3 4]\n",
      "二维数组： [[1 2 3]\n",
      " [4 5 6]]\n"
     ]
    }
   ],
   "source": [
    "import numpy as np # 导入NumPy库\n",
    "arr1 = np.array([1, 2, 3, 4])\n",
    "print('一维数组：', arr1)\n",
    "\n",
    "arr2 = np.array([[1, 2, 3], [4, 5, 6]])\n",
    "print('二维数组：', arr2)"
   ]
  },
  {
   "cell_type": "code",
   "execution_count": 9,
   "metadata": {
    "ExecuteTime": {
     "end_time": "2019-03-10T02:49:17.212472Z",
     "start_time": "2019-03-10T02:49:17.207042Z"
    }
   },
   "outputs": [
    {
     "name": "stdout",
     "output_type": "stream",
     "text": [
      "重设shape属性： [[1 2]\n",
      " [3 4]\n",
      " [5 6]]\n"
     ]
    }
   ],
   "source": [
    "arr2.shape = 3,2\n",
    "print('重设shape属性：', arr2)"
   ]
  },
  {
   "cell_type": "code",
   "execution_count": 12,
   "metadata": {},
   "outputs": [
    {
     "name": "stdout",
     "output_type": "stream",
     "text": [
      "arange函数创建数组： [0.  0.1 0.2 0.3 0.4 0.5 0.6 0.7 0.8 0.9]\n"
     ]
    }
   ],
   "source": [
    "print('arange函数创建数组：', np.arange(0, 1, 0.1))"
   ]
  },
  {
   "cell_type": "code",
   "execution_count": 14,
   "metadata": {},
   "outputs": [
    {
     "name": "stdout",
     "output_type": "stream",
     "text": [
      "linespace函数创建数组： [0.  4.5 9. ]\n"
     ]
    }
   ],
   "source": [
    "print('linespace函数创建数组：', np.linspace(0, 9, 3))"
   ]
  },
  {
   "cell_type": "code",
   "execution_count": 25,
   "metadata": {},
   "outputs": [
    {
     "name": "stdout",
     "output_type": "stream",
     "text": [
      "zeros: \n",
      " [[0. 0.]\n",
      " [0. 0.]]\n",
      "eye：\n",
      " [[1. 0.]\n",
      " [0. 1.]]\n",
      "diag：\n",
      " [[2 0]\n",
      " [0 8]]\n",
      "ones: \n",
      " [[1. 1.]\n",
      " [1. 1.]]\n"
     ]
    }
   ],
   "source": [
    "print('zeros: \\n', np.zeros((2, 2)))\n",
    "print('eye：\\n', np.eye(2))\n",
    "print('diag：\\n', np.diag([2, 8]))\n",
    "print('ones: \\n', np.ones((2, 2)))"
   ]
  },
  {
   "cell_type": "code",
   "execution_count": 26,
   "metadata": {},
   "outputs": [
    {
     "name": "stdout",
     "output_type": "stream",
     "text": [
      "11.0\n",
      "11\n",
      "True\n",
      "1.0\n"
     ]
    }
   ],
   "source": [
    "print(np.float(11))\n",
    "print(np.int(11.5))\n",
    "print(np.bool(1))\n",
    "print(np.float(True))"
   ]
  },
  {
   "cell_type": "code",
   "execution_count": 28,
   "metadata": {},
   "outputs": [
    {
     "name": "stdout",
     "output_type": "stream",
     "text": [
      "数据类型:  [('name', '<U40'), ('numitems', '<i8'), ('price', '<f8')]\n",
      "数据类型:  <U40\n",
      "自定义数据: \n",
      " [['apple' '11' '5.55']\n",
      " ['banana' '22' '6.66']]\n"
     ]
    }
   ],
   "source": [
    "# 使用自定义类型定义数组\n",
    "df = np.dtype([(\"name\", np.str_, 40), (\"numitems\", np.int64), (\"price\", np.float64)])\n",
    "print('数据类型: ', df)\n",
    "print('数据类型: ', df['name'])\n",
    "items = np.array([(\"apple\", 11, 5.55), (\"banana\", 22, 6.66)])\n",
    "print('自定义数据: \\n', items)"
   ]
  },
  {
   "cell_type": "code",
   "execution_count": 29,
   "metadata": {},
   "outputs": [
    {
     "name": "stdout",
     "output_type": "stream",
     "text": [
      "随机数数组:  [0.06559078 0.38563003 0.88446415 0.25176416 0.22713844]\n"
     ]
    }
   ],
   "source": [
    "print('随机数数组: ', np.random.random(5))"
   ]
  },
  {
   "cell_type": "code",
   "execution_count": 33,
   "metadata": {},
   "outputs": [
    {
     "name": "stdout",
     "output_type": "stream",
     "text": [
      "均匀分布: \n",
      " [[0.09041956 0.77256632]\n",
      " [0.31592033 0.25268067]]\n",
      "正态分布: \n",
      " [[ 0.1759632   0.82774521]\n",
      " [ 0.30908569 -0.25358485]]\n",
      "给定上下限(开区间): \n",
      " [[5 2]\n",
      " [9 3]]\n"
     ]
    }
   ],
   "source": [
    "print('均匀分布: \\n', np.random.rand(2, 2))\n",
    "print('正态分布: \\n', np.random.randn(2, 2))\n",
    "print('给定上下限(开区间): \\n', np.random.randint(2, 10, size=[2, 2]))"
   ]
  },
  {
   "cell_type": "code",
   "execution_count": 39,
   "metadata": {},
   "outputs": [
    {
     "name": "stdout",
     "output_type": "stream",
     "text": [
      "通过索引访问一维数组: \n",
      " 4\n",
      "[0 1 2 3 4]\n",
      "4\n",
      "[0 2]\n",
      "[ 0 11 22  3  4]\n"
     ]
    }
   ],
   "source": [
    "arr = np.arange(5)\n",
    "print('通过索引访问一维数组: \\n', arr[4])\n",
    "print(arr[0:5])\n",
    "print(arr[-1])\n",
    "print(arr[0:-1:2])\n",
    "arr[1:3] = 11, 22\n",
    "print(arr)"
   ]
  },
  {
   "cell_type": "code",
   "execution_count": 54,
   "metadata": {},
   "outputs": [
    {
     "name": "stdout",
     "output_type": "stream",
     "text": [
      "[[0 1 2]\n",
      " [3 4 5]\n",
      " [6 7 8]]\n",
      "第2行2列:  4\n",
      "每一行的第1,3列元素: \n",
      " [[0 2]\n",
      " [3 5]\n",
      " [6 8]]\n"
     ]
    }
   ],
   "source": [
    "arr = np.array([range(3), range(3,6), range(6,9)])\n",
    "print(arr)\n",
    "print('第2行2列: ', arr[1,1])\n",
    "print('每一行的第1,3列元素: \\n', arr[:, 0::2])"
   ]
  },
  {
   "cell_type": "code",
   "execution_count": 62,
   "metadata": {},
   "outputs": [
    {
     "name": "stdout",
     "output_type": "stream",
     "text": [
      "整数组合访问(0,2)和(2,0):  [2 6]\n",
      "布尔数组访问(0,2)和(2,2):  [2 8]\n"
     ]
    },
    {
     "name": "stderr",
     "output_type": "stream",
     "text": [
      "G:\\soft\\Anaconda3\\lib\\site-packages\\ipykernel_launcher.py:1: FutureWarning: Using a non-tuple sequence for multidimensional indexing is deprecated; use `arr[tuple(seq)]` instead of `arr[seq]`. In the future this will be interpreted as an array index, `arr[np.array(seq)]`, which will result either in an error or a different result.\n",
      "  \"\"\"Entry point for launching an IPython kernel.\n"
     ]
    }
   ],
   "source": [
    "print('整数组合访问(0,2)和(2,0): ', arr[[(0,2), (2, 0)]])\n",
    "print('布尔数组访问(0,2)和(2,2): ', arr[[True, False, True], 2])"
   ]
  },
  {
   "cell_type": "code",
   "execution_count": 64,
   "metadata": {},
   "outputs": [
    {
     "name": "stdout",
     "output_type": "stream",
     "text": [
      "[ 0  1  2  3  4  5  6  7  8  9 10 11]\n",
      "改变形状: \n",
      " [[ 0  1  2]\n",
      " [ 3  4  5]\n",
      " [ 6  7  8]\n",
      " [ 9 10 11]]\n"
     ]
    }
   ],
   "source": [
    "arr = np.arange(12)\n",
    "print(arr)\n",
    "print('改变形状: \\n', arr.reshape(4, 3))"
   ]
  },
  {
   "cell_type": "code",
   "execution_count": 68,
   "metadata": {},
   "outputs": [
    {
     "name": "stdout",
     "output_type": "stream",
     "text": [
      "[[ 0  1  2  3]\n",
      " [ 4  5  6  7]\n",
      " [ 8  9 10 11]]\n",
      "展平数组: \n",
      " [ 0  1  2  3  4  5  6  7  8  9 10 11]\n",
      "横向展平: \n",
      " [ 0  1  2  3  4  5  6  7  8  9 10 11]\n",
      "纵向展平: \n",
      " [ 0  4  8  1  5  9  2  6 10  3  7 11]\n"
     ]
    }
   ],
   "source": [
    "arr = np.arange(12).reshape(3,4)\n",
    "print(arr)\n",
    "print('展平数组: \\n', arr.ravel())\n",
    "print('横向展平: \\n', arr.flatten())\n",
    "print('纵向展平: \\n', arr.flatten('F'))"
   ]
  },
  {
   "cell_type": "code",
   "execution_count": 72,
   "metadata": {},
   "outputs": [
    {
     "name": "stdout",
     "output_type": "stream",
     "text": [
      "arr2: \n",
      " [[ 0  2  4  6]\n",
      " [ 8 10 12 14]\n",
      " [16 18 20 22]]\n",
      "横向组合: \n",
      " [[ 0  1  2  3  0  2  4  6]\n",
      " [ 4  5  6  7  8 10 12 14]\n",
      " [ 8  9 10 11 16 18 20 22]]\n",
      "纵向组合: \n",
      " [[ 0  1  2  3]\n",
      " [ 4  5  6  7]\n",
      " [ 8  9 10 11]\n",
      " [ 0  2  4  6]\n",
      " [ 8 10 12 14]\n",
      " [16 18 20 22]]\n"
     ]
    }
   ],
   "source": [
    "arr1 = np.arange(12).reshape(3, 4)\n",
    "arr2 = arr1 * 2\n",
    "print('arr2: \\n', arr2)\n",
    "print('横向组合: \\n', np.hstack((arr1, arr2)))\n",
    "print('纵向组合: \\n', np.vstack((arr1, arr2)))"
   ]
  },
  {
   "cell_type": "code",
   "execution_count": 79,
   "metadata": {},
   "outputs": [
    {
     "name": "stdout",
     "output_type": "stream",
     "text": [
      "横向分割: \n",
      " [array([[0, 1],\n",
      "       [4, 5],\n",
      "       [8, 9]]), array([[ 2,  3],\n",
      "       [ 6,  7],\n",
      "       [10, 11]])]\n",
      "纵向分割: \n",
      " [array([[0, 1, 2, 3]]), array([[4, 5, 6, 7]]), array([[ 8,  9, 10, 11]])]\n"
     ]
    }
   ],
   "source": [
    "arr = np.arange(12).reshape(3, 4)\n",
    "print('横向分割: \\n', np.hsplit(arr, 2)) # 分割为2个\n",
    "print('纵向分割: \\n', np.vsplit(arr, 3)) # 分割为3个"
   ]
  },
  {
   "cell_type": "code",
   "execution_count": 82,
   "metadata": {},
   "outputs": [
    {
     "name": "stdout",
     "output_type": "stream",
     "text": [
      "矩阵1: \n",
      " [[1 2 3]\n",
      " [4 5 6]\n",
      " [7 8 9]]\n",
      "矩阵2: \n",
      " [[1 2 3]\n",
      " [4 5 6]\n",
      " [7 8 9]]\n"
     ]
    }
   ],
   "source": [
    "matr1 = np.mat(\"1 2 3; 4 5 6; 7 8 9\") # 分号隔开\n",
    "print('矩阵1: \\n', matr1)\n",
    "matr2 = np.matrix([[1,2,3],[4,5,6],[7,8,9]])\n",
    "print('矩阵2: \\n', matr2)"
   ]
  },
  {
   "cell_type": "code",
   "execution_count": 87,
   "metadata": {},
   "outputs": [
    {
     "name": "stdout",
     "output_type": "stream",
     "text": [
      "矩阵3: \n",
      " [[1. 0. 0. 1. 1. 1.]\n",
      " [0. 1. 0. 1. 1. 1.]\n",
      " [0. 0. 1. 1. 1. 1.]\n",
      " [1. 1. 1. 1. 0. 0.]\n",
      " [1. 1. 1. 0. 1. 0.]\n",
      " [1. 1. 1. 0. 0. 1.]]\n"
     ]
    }
   ],
   "source": [
    "arr1 = np.eye(3)\n",
    "arr2 = np.ones((3,3))\n",
    "print('矩阵3: \\n', np.bmat(\"arr1 arr2; arr2 arr1\"))"
   ]
  },
  {
   "cell_type": "code",
   "execution_count": 94,
   "metadata": {},
   "outputs": [
    {
     "name": "stdout",
     "output_type": "stream",
     "text": [
      "[[ 0  2  4]\n",
      " [ 6  8 10]\n",
      " [12 14 16]]\n",
      "[[ 15  18  21]\n",
      " [ 42  54  66]\n",
      " [ 69  90 111]]\n",
      "[[ 0  1  4]\n",
      " [ 9 16 25]\n",
      " [36 49 64]]\n"
     ]
    }
   ],
   "source": [
    "matr1 = np.mat([range(3), range(3,6), range(6,9)])\n",
    "matr2 = matr1\n",
    "print(matr1+matr2)\n",
    "print(matr1*matr2) # 矩阵乘法\n",
    "print(np.multiply(matr1, matr2)) # 对应位置相乘"
   ]
  },
  {
   "cell_type": "code",
   "execution_count": 97,
   "metadata": {},
   "outputs": [
    {
     "name": "stdout",
     "output_type": "stream",
     "text": [
      "转置: \n",
      " [[1 4 7]\n",
      " [2 5 8]\n",
      " [3 6 9]]\n",
      "逆矩阵: \n",
      " [[ 3.15251974e+15 -6.30503948e+15  3.15251974e+15]\n",
      " [-6.30503948e+15  1.26100790e+16 -6.30503948e+15]\n",
      " [ 3.15251974e+15 -6.30503948e+15  3.15251974e+15]]\n"
     ]
    }
   ],
   "source": [
    "matr = np.mat([range(1,4), range(4,7), range(7,10)])\n",
    "print('转置: \\n', matr.T)\n",
    "print('逆矩阵: \\n', matr.I)"
   ]
  },
  {
   "cell_type": "code",
   "execution_count": 100,
   "metadata": {},
   "outputs": [
    {
     "name": "stdout",
     "output_type": "stream",
     "text": [
      "加法: \n",
      " [5 7 9]\n",
      "乘法: \n",
      " [ 4 10 18]\n",
      "幂运算: \n",
      " [  1  32 729]\n"
     ]
    }
   ],
   "source": [
    "arr1 = np.array([1,2,3])\n",
    "arr2 = np.array([4,5,6])\n",
    "print('加法: \\n', arr1+arr2)\n",
    "print('乘法: \\n', arr1*arr2)\n",
    "print('幂运算: \\n', arr1**arr2)"
   ]
  },
  {
   "cell_type": "code",
   "execution_count": 102,
   "metadata": {},
   "outputs": [
    {
     "name": "stdout",
     "output_type": "stream",
     "text": [
      "<: \n",
      " [ True False False]\n",
      "<=: \n",
      " [ True  True False]\n",
      "==: \n",
      " [False  True False]\n"
     ]
    }
   ],
   "source": [
    "arr1 = np.array([1,3,5])\n",
    "arr2 = np.array([2,3,4])\n",
    "print('<: \\n', arr1 < arr2)\n",
    "print('<=: \\n', arr1 <= arr2)\n",
    "print('==: \\n', arr1 == arr2)"
   ]
  },
  {
   "cell_type": "code",
   "execution_count": 104,
   "metadata": {},
   "outputs": [
    {
     "name": "stdout",
     "output_type": "stream",
     "text": [
      "逻辑 and: \n",
      " False\n",
      "逻辑 or: \n",
      " True\n"
     ]
    }
   ],
   "source": [
    "print('逻辑 and: \\n', np.all(arr1 == arr2))\n",
    "print('逻辑 or: \\n', np.any(arr1 == arr2))"
   ]
  },
  {
   "cell_type": "code",
   "execution_count": 1,
   "metadata": {},
   "outputs": [
    {
     "name": "stdout",
     "output_type": "stream",
     "text": [
      "arr1:\n",
      " [[0 0 0]\n",
      " [1 1 1]\n",
      " [2 2 2]]\n",
      "arr2:\n",
      " [-1  0  1]\n",
      "arr1+arr2: \n",
      " [[-1  0  1]\n",
      " [ 0  1  2]\n",
      " [ 1  2  3]]\n"
     ]
    }
   ],
   "source": [
    "import numpy as np\n",
    "# 一维数组广播机制\n",
    "arr1 = np.array([[0,0,0],[1,1,1],[2,2,2]])\n",
    "arr2 = np.array([-1,0,1])\n",
    "print('arr1:\\n', arr1)\n",
    "print('arr2:\\n', arr2)\n",
    "print('arr1+arr2: \\n', arr1+arr2)\n"
   ]
  },
  {
   "cell_type": "code",
   "execution_count": 2,
   "metadata": {},
   "outputs": [
    {
     "name": "stdout",
     "output_type": "stream",
     "text": [
      "arr1:\n",
      " [[0 0 0]\n",
      " [1 1 1]\n",
      " [2 2 2]]\n",
      "arr2:\n",
      " [[-1]\n",
      " [ 0]\n",
      " [ 1]]\n",
      "arr1+arr2: \n",
      " [[-1 -1 -1]\n",
      " [ 1  1  1]\n",
      " [ 3  3  3]]\n"
     ]
    }
   ],
   "source": [
    "import numpy as np\n",
    "# 二维数组广播机制\n",
    "arr1 = np.array([[0,0,0],[1,1,1],[2,2,2]])\n",
    "arr2 = np.array([-1,0,1]).reshape((3,1))\n",
    "print('arr1:\\n', arr1)\n",
    "print('arr2:\\n', arr2)\n",
    "print('arr1+arr2: \\n', arr1+arr2)\n"
   ]
  },
  {
   "cell_type": "code",
   "execution_count": 4,
   "metadata": {},
   "outputs": [],
   "source": [
    "arr = np.arange(100).reshape(10,10)\n",
    "np.save(\"./save_arr\", arr) # 保存数组，自动添加 .npy后缀"
   ]
  },
  {
   "cell_type": "code",
   "execution_count": 5,
   "metadata": {},
   "outputs": [
    {
     "name": "stdout",
     "output_type": "stream",
     "text": [
      "[[ 0  1  2  3  4  5  6  7  8  9]\n",
      " [10 11 12 13 14 15 16 17 18 19]\n",
      " [20 21 22 23 24 25 26 27 28 29]\n",
      " [30 31 32 33 34 35 36 37 38 39]\n",
      " [40 41 42 43 44 45 46 47 48 49]\n",
      " [50 51 52 53 54 55 56 57 58 59]\n",
      " [60 61 62 63 64 65 66 67 68 69]\n",
      " [70 71 72 73 74 75 76 77 78 79]\n",
      " [80 81 82 83 84 85 86 87 88 89]\n",
      " [90 91 92 93 94 95 96 97 98 99]]\n"
     ]
    }
   ],
   "source": [
    "arr = np.load(\"./save_arr.npy\") # 读取文件内容\n",
    "print(arr)"
   ]
  },
  {
   "cell_type": "code",
   "execution_count": 7,
   "metadata": {},
   "outputs": [],
   "source": [
    "arr = np.arange(100).reshape(10,10)\n",
    "np.savetxt(\"./savetxt_arr.txt\", arr)"
   ]
  },
  {
   "cell_type": "code",
   "execution_count": 8,
   "metadata": {},
   "outputs": [
    {
     "name": "stdout",
     "output_type": "stream",
     "text": [
      "[[ 0.  1.  2.  3.  4.  5.  6.  7.  8.  9.]\n",
      " [10. 11. 12. 13. 14. 15. 16. 17. 18. 19.]\n",
      " [20. 21. 22. 23. 24. 25. 26. 27. 28. 29.]\n",
      " [30. 31. 32. 33. 34. 35. 36. 37. 38. 39.]\n",
      " [40. 41. 42. 43. 44. 45. 46. 47. 48. 49.]\n",
      " [50. 51. 52. 53. 54. 55. 56. 57. 58. 59.]\n",
      " [60. 61. 62. 63. 64. 65. 66. 67. 68. 69.]\n",
      " [70. 71. 72. 73. 74. 75. 76. 77. 78. 79.]\n",
      " [80. 81. 82. 83. 84. 85. 86. 87. 88. 89.]\n",
      " [90. 91. 92. 93. 94. 95. 96. 97. 98. 99.]]\n"
     ]
    }
   ],
   "source": [
    "arr = np.loadtxt(\"./savetxt_arr.txt\")\n",
    "print(arr)"
   ]
  },
  {
   "cell_type": "code",
   "execution_count": 10,
   "metadata": {},
   "outputs": [
    {
     "name": "stdout",
     "output_type": "stream",
     "text": [
      "[7 4 8 5 7 3 7 8 5 4]\n",
      "直接排序:\n",
      " [3 4 4 5 5 7 7 7 8 8]\n"
     ]
    }
   ],
   "source": [
    "np.random.seed(42) # 设置随机种子\n",
    "arr = np.random.randint(1, 10, size=10) # 随机数组\n",
    "print(arr)\n",
    "arr.sort()\n",
    "print('直接排序:\\n', arr)\n"
   ]
  },
  {
   "cell_type": "code",
   "execution_count": 14,
   "metadata": {},
   "outputs": [
    {
     "name": "stdout",
     "output_type": "stream",
     "text": [
      "[[3 5 3]\n",
      " [7 5 9]\n",
      " [7 2 4]]\n",
      "横轴排序: \n",
      " [[3 3 5]\n",
      " [5 7 9]\n",
      " [2 4 7]]\n",
      "纵轴排序: \n",
      " [[2 3 5]\n",
      " [3 4 7]\n",
      " [5 7 9]]\n"
     ]
    }
   ],
   "source": [
    "arr = np.random.randint(1,10,size=(3,3)) # 三行三列随机数组\n",
    "print(arr)\n",
    "arr.sort(axis=1)\n",
    "print('横轴排序: \\n', arr)\n",
    "arr.sort(axis=0)\n",
    "print('纵轴排序: \\n', arr)"
   ]
  },
  {
   "cell_type": "code",
   "execution_count": 28,
   "metadata": {},
   "outputs": [
    {
     "name": "stdout",
     "output_type": "stream",
     "text": [
      "去重:\n",
      " ['a' 'b' 'c']\n",
      "重复tile: \n",
      " [[6 7 6 7]\n",
      " [2 0 2 0]]\n",
      "重复repeat: \n",
      " [[6 7]\n",
      " [6 7]\n",
      " [2 0]\n",
      " [2 0]]\n",
      "重复repeat: \n",
      " [[6 6 7 7]\n",
      " [2 2 0 0]]\n"
     ]
    }
   ],
   "source": [
    "words = np.array(['a','b','b','c'])\n",
    "print('去重:\\n', np.unique(words))\n",
    "arr = np.random.randint(0,10,size=(2,2))\n",
    "print('重复tile: \\n', np.tile(arr, 2))\n",
    "print('重复repeat: \\n', arr.repeat(2, axis=0)) # 按行\n",
    "print('重复repeat: \\n', arr.repeat(2, axis=1)) # 按列"
   ]
  },
  {
   "cell_type": "code",
   "execution_count": 33,
   "metadata": {},
   "outputs": [
    {
     "name": "stdout",
     "output_type": "stream",
     "text": [
      "sum: \n",
      " 66\n",
      "纵向求和: \n",
      " [12 15 18 21]\n",
      "横向求和: \n",
      " [ 6 22 38]\n",
      "mean: \n",
      " 5.5\n",
      "纵向均值: \n",
      " [4. 5. 6. 7.]\n",
      "横向均值: \n",
      " [1.5 5.5 9.5]\n"
     ]
    }
   ],
   "source": [
    "arr = np.arange(12).reshape(3,4)\n",
    "print('sum: \\n', np.sum(arr))\n",
    "print('纵向求和: \\n', arr.sum(axis=0))\n",
    "print('横向求和: \\n', arr.sum(axis=1))\n",
    "print('mean: \\n', np.mean(arr))\n",
    "print('纵向均值: \\n', arr.mean(axis=0))\n",
    "print('横向均值: \\n', arr.mean(axis=1))"
   ]
  },
  {
   "cell_type": "code",
   "execution_count": 38,
   "metadata": {},
   "outputs": [
    {
     "name": "stdout",
     "output_type": "stream",
     "text": [
      "[1 2 3 4 5]\n",
      "累计求和: \n",
      " [ 1  3  6 10 15]\n",
      "累计积: \n",
      " [  1   2   6  24 120]\n"
     ]
    }
   ],
   "source": [
    "arr = np.arange(1, 6)\n",
    "print(arr)\n",
    "print('累计求和: \\n', np.cumsum(arr))\n",
    "print('累计积: \\n', np.cumprod(arr))"
   ]
  },
  {
   "cell_type": "code",
   "execution_count": null,
   "metadata": {},
   "outputs": [],
   "source": []
  }
 ],
 "metadata": {
  "kernelspec": {
   "display_name": "Python 3",
   "language": "python",
   "name": "python3"
  },
  "language_info": {
   "codemirror_mode": {
    "name": "ipython",
    "version": 3
   },
   "file_extension": ".py",
   "mimetype": "text/x-python",
   "name": "python",
   "nbconvert_exporter": "python",
   "pygments_lexer": "ipython3",
   "version": "3.7.1"
  }
 },
 "nbformat": 4,
 "nbformat_minor": 2
}
